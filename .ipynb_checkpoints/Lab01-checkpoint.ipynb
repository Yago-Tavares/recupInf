{
 "cells": [
  {
   "cell_type": "code",
   "execution_count": 1,
   "metadata": {
    "collapsed": true
   },
   "outputs": [],
   "source": [
    "import pandas as pd, numpy\n",
    "filename = 'noticias_estadao.csv'\n",
    "data = pd.read_csv(filename)"
   ]
  },
  {
   "cell_type": "code",
   "execution_count": 2,
   "metadata": {
    "collapsed": true
   },
   "outputs": [],
   "source": [
    "def getIDs(search):\n",
    "    searchWords = search.split(\" \")\n",
    "    wordIDs = []\n",
    "    if(len(searchWords) >=2):\n",
    "        booleanOperator = searchWords[1]\n",
    "        wordIDs1 = []\n",
    "        wordIDs2 = []\n",
    "        for i in range(0, len(data.values)):\n",
    "            noticeWords = data.values[i][0].split(\" \") + data.values[i][1].split(\" \")\n",
    "            for w in range(0, len(noticeWords)):\n",
    "                if(searchWords[0].upper() == noticeWords[w].upper()):\n",
    "                    wordIDs1.append(data.values[i][2])\n",
    "                if(searchWords[2].upper() == noticeWords[w].upper()):\n",
    "                    wordIDs2.append(data.values[i][2])\n",
    "                if((searchWords[1] in wordIDs1) and searchWords[2] in wordIDs2):\n",
    "                    break\n",
    "        if(booleanOperator == \"AND\"):\n",
    "            wordIDs = set(wordIDs1).intersection(wordIDs2)\n",
    "        else:\n",
    "            wordIDs = set(wordIDs1).union(wordIDs2)\n",
    "    else:\n",
    "        for i in range(0, len(data.values)):\n",
    "            noticeWords = data.values[i][0].split(\" \") + data.values[i][1].split(\" \")\n",
    "            for w in range(0, len(noticeWords)):\n",
    "                if(searchWords[0].upper() == noticeWords[w].upper()):\n",
    "                    wordIDs.append(data.values[i][2])  \n",
    "                    break\n",
    "    return wordIDs\n"
   ]
  },
  {
   "cell_type": "code",
   "execution_count": null,
   "metadata": {},
   "outputs": [],
   "source": [
    "assert len(getIDs(\"debate OR presidencial\")) == 1770\n",
    "assert len(getIDs(\"debate AND presidencial\")) == 201\n",
    "assert len(getIDs(\"presidenciáveis OR corruptos\")) == 164\n",
    "assert len(getIDs(\"presidenciáveis AND corruptos\"))== 0\n",
    "assert len(getIDs(\"Belo OR Horizonte\")) == 331\n",
    "assert len(getIDs(\"Belo AND Horizonte\")) == 242"
   ]
  },
  {
   "cell_type": "code",
   "execution_count": null,
   "metadata": {
    "collapsed": true
   },
   "outputs": [],
   "source": []
  }
 ],
 "metadata": {
  "kernelspec": {
   "display_name": "Python 3",
   "language": "python",
   "name": "python3"
  },
  "language_info": {
   "codemirror_mode": {
    "name": "ipython",
    "version": 3
   },
   "file_extension": ".py",
   "mimetype": "text/x-python",
   "name": "python",
   "nbconvert_exporter": "python",
   "pygments_lexer": "ipython3",
   "version": "3.6.2"
  }
 },
 "nbformat": 4,
 "nbformat_minor": 2
}
