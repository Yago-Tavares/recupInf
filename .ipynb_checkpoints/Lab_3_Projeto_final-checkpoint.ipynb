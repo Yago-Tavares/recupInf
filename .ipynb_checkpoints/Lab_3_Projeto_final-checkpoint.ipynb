{
 "cells": [
  {
   "cell_type": "code",
   "execution_count": 34,
   "metadata": {},
   "outputs": [],
   "source": [
    "import io\n",
    "import operator\n",
    "from surprise import Dataset\n",
    "from surprise import KNNWithMeans,accuracy\n",
    "from surprise.model_selection import train_test_split"
   ]
  },
  {
   "cell_type": "markdown",
   "metadata": {},
   "source": [
    "## Put movie IDs and names in dictionary"
   ]
  },
  {
   "cell_type": "code",
   "execution_count": 35,
   "metadata": {},
   "outputs": [],
   "source": [
    "movies = dict()\n",
    "data_movies = io.open('ml-100k/u.item',encoding=\"ISO-8859-1\").read().split('\\n')\n",
    "for i in data_movies:\n",
    "    info = i.split('|')\n",
    "    if(info != ['']):\n",
    "        movie_id = (info[0])\n",
    "        movie_name = (info[1])\n",
    "        movies[movie_id]=[movie_name]"
   ]
  },
  {
   "cell_type": "markdown",
   "metadata": {},
   "source": [
    "## Stores movies the user has already watched in a dictionary"
   ]
  },
  {
   "cell_type": "code",
   "execution_count": 37,
   "metadata": {},
   "outputs": [],
   "source": [
    "movies_watched = dict()\n",
    "data_users = io.open('ml-100k/u.data',encoding=\"ISO-8859-1\").read().split('\\n')\n",
    "for i in data_users:\n",
    "    info = i.split('\\t')\n",
    "    if(info != ['']):\n",
    "        userID = info[0]\n",
    "        movieID = info[1]\n",
    "        if(userID in movies_watched):\n",
    "            movies_watched[int(userID)].append(int(movieID))\n",
    "        else:\n",
    "            movies_watched[int(userID)] = [int(movieID)]"
   ]
  },
  {
   "cell_type": "markdown",
   "metadata": {},
   "source": [
    "## Select movies that the user didn't watched"
   ]
  },
  {
   "cell_type": "code",
   "execution_count": 38,
   "metadata": {},
   "outputs": [],
   "source": [
    "indications = dict()\n",
    "moviesIds = set(movies.keys())\n",
    "for i in movies_watched:\n",
    "    moviesUserWatched= set(movies_watched[i])\n",
    "    indications[i] = moviesIds.difference(moviesUserWatched)"
   ]
  },
  {
   "cell_type": "markdown",
   "metadata": {},
   "source": [
    "## Use KNN algorithm to train the data"
   ]
  },
  {
   "cell_type": "code",
   "execution_count": 39,
   "metadata": {},
   "outputs": [
    {
     "name": "stdout",
     "output_type": "stream",
     "text": [
      "Computing the cosine similarity matrix...\n",
      "Done computing similarity matrix.\n"
     ]
    }
   ],
   "source": [
    "data = Dataset.load_builtin('ml-100k')\n",
    "trainset,testset = train_test_split(data,test_size =.2)\n",
    "\n",
    "algo = KNNWithMeans(k=4, sim_options={'name': 'cosine', 'user_based': True})\n",
    "\n",
    "algo.fit(trainset)\n",
    "predictions = algo.test(testset)"
   ]
  },
  {
   "cell_type": "markdown",
   "metadata": {},
   "source": [
    "## Select the top 5 movies "
   ]
  },
  {
   "cell_type": "code",
   "execution_count": 40,
   "metadata": {},
   "outputs": [],
   "source": [
    "def top5Movies(userId):\n",
    "    indicationsByRating = dict()\n",
    "    indicationsByUser = list(indications[userId])\n",
    "\n",
    "    for i in indicationsByUser:\n",
    "        indicationsByRating[i] = algo.predict(uid=str(userId),iid=str(i)).est\n",
    "    indicationsByRating = sorted(indicationsByRating.items(), key=lambda x: x[1],reverse = True)\n",
    "    top5 = indicationsByRating[:5]\n",
    "    for w in top5:\n",
    "        print(movies[w[0]],w[1])"
   ]
  },
  {
   "cell_type": "markdown",
   "metadata": {},
   "source": [
    "## Show the top 3 neighbors of user"
   ]
  },
  {
   "cell_type": "code",
   "execution_count": 41,
   "metadata": {},
   "outputs": [],
   "source": [
    "def top3Neighbors(uid):\n",
    "    neighbors = algo.get_neighbors(iid=uid, k=3)\n",
    "    \n",
    "    for i in neighbors:\n",
    "        userNeighbors.append\n",
    "    return neighbors\n"
   ]
  },
  {
   "cell_type": "code",
   "execution_count": 42,
   "metadata": {},
   "outputs": [
    {
     "name": "stdout",
     "output_type": "stream",
     "text": [
      "([u'Butterfly Kiss (1995)'], 1)\n",
      "([u'New York Cop (1996)'], 1)\n",
      "([u'Police Story 4: Project S (Chao ji ji hua) (1993)'], 1)\n",
      "([u'Getting Away With Murder (1996)'], 1)\n",
      "([u'King of New York (1990)'], 1.0979950900163664)\n",
      "[11, 49, 98]\n",
      "KNN RMSE: 1.044\n"
     ]
    }
   ],
   "source": [
    "top5Movies(230)\n",
    "print(show_top_3_neighbors(360))\n",
    "print('KNN RMSE: %.3f' % accuracy.rmse(predictions,verbose = False))"
   ]
  },
  {
   "cell_type": "code",
   "execution_count": null,
   "metadata": {},
   "outputs": [],
   "source": []
  },
  {
   "cell_type": "code",
   "execution_count": null,
   "metadata": {},
   "outputs": [],
   "source": []
  }
 ],
 "metadata": {
  "kernelspec": {
   "display_name": "Python 2",
   "language": "python",
   "name": "python2"
  },
  "language_info": {
   "codemirror_mode": {
    "name": "ipython",
    "version": 2
   },
   "file_extension": ".py",
   "mimetype": "text/x-python",
   "name": "python",
   "nbconvert_exporter": "python",
   "pygments_lexer": "ipython2",
   "version": "2.7.12"
  }
 },
 "nbformat": 4,
 "nbformat_minor": 2
}
