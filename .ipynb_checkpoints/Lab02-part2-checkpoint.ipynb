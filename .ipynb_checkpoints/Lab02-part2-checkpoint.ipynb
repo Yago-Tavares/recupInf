{
 "cells": [
  {
   "cell_type": "code",
   "execution_count": 158,
   "metadata": {},
   "outputs": [
    {
     "name": "stdout",
     "output_type": "stream",
     "text": [
      "/bin/sh: 1: Syntax error: word unexpected (expecting \")\")\n",
      "<class 'IPython.core.display.Image'>\n"
     ]
    }
   ],
   "source": [
    "import pandas as pd, numpy as np, csv\n",
    "from IPython.display import Image\n",
    "print(Image)\n",
    "filename = 'soc-sign-bitcoinotc.csv'\n",
    "file = open(filename, \"r\")\n",
    "reader = csv.reader(file)\n",
    "\n",
    "data = {}\n",
    "source = []\n",
    "target = []\n",
    "count = 0\n",
    "for row in reader:\n",
    "    if((int(row[0]) in data) and (int(row[2])>=8)):\n",
    "        data[int(row[0])].append(int(row[1]))\n",
    "        source.append(int(row[0]))\n",
    "        target.append(int(row[1]))\n",
    "    elif(int(row[2]) >= 8):\n",
    "        data[int(row[0])] = [int(row[1])]\n",
    "        source.append(int(row[0]))\n",
    "        target.append(int(row[1]))\n",
    "dataDictionary = {'source': source, 'target': target}\n",
    "dataFrame = pd.DataFrame(data=dataDictionary)\n",
    "dataFrame.to_csv('connections.csv', index = False)"
   ]
  },
  {
   "cell_type": "code",
   "execution_count": 160,
   "metadata": {},
   "outputs": [
    {
     "name": "stdout",
     "output_type": "stream",
     "text": [
      "/bin/sh: 1: Syntax error: word unexpected (expecting \")\")\r\n"
     ]
    }
   ],
   "source": [
    "![title](\"img/gephi.png\")"
   ]
  },
  {
   "cell_type": "code",
   "execution_count": null,
   "metadata": {},
   "outputs": [],
   "source": []
  },
  {
   "cell_type": "markdown",
   "metadata": {},
   "source": [
    "## Create connection matrix (Matrix A)"
   ]
  },
  {
   "cell_type": "code",
   "execution_count": 141,
   "metadata": {},
   "outputs": [],
   "source": [
    "matrixA = np.zeros((5999,5999))\n",
    "for i in sorted(data):\n",
    "    size = len(list(map(int, data[i])))\n",
    "    for j in data[i]:\n",
    "        matrixA.itemset((int(j)-1, int(i)-1), 1.0/size)"
   ]
  },
  {
   "cell_type": "markdown",
   "metadata": {},
   "source": [
    "## Create matrix B"
   ]
  },
  {
   "cell_type": "code",
   "execution_count": 142,
   "metadata": {},
   "outputs": [],
   "source": [
    "matrixB = np.empty((5999,5999))\n",
    "result = 0.15/5999\n",
    "matrixB.fill(result)"
   ]
  },
  {
   "cell_type": "markdown",
   "metadata": {},
   "source": [
    "## Create matrix V"
   ]
  },
  {
   "cell_type": "code",
   "execution_count": 143,
   "metadata": {},
   "outputs": [],
   "source": [
    "matrixV = 1.0/5999 * np.ones((5999, 1))"
   ]
  },
  {
   "cell_type": "markdown",
   "metadata": {},
   "source": [
    "## Calculate M"
   ]
  },
  {
   "cell_type": "code",
   "execution_count": 165,
   "metadata": {},
   "outputs": [],
   "source": [
    "m = (0.85 * matrixA) + matrixB"
   ]
  },
  {
   "cell_type": "markdown",
   "metadata": {},
   "source": [
    "## Calculate pageRank"
   ]
  },
  {
   "cell_type": "code",
   "execution_count": 166,
   "metadata": {},
   "outputs": [],
   "source": [
    "count = 0\n",
    "def pageRank(matrixV):\n",
    "    global count\n",
    "    if((sum(abs((m.dot(matrixV))-matrixV))) > 0.001):\n",
    "        count +=1\n",
    "        print(count)\n",
    "        print(m.dot(matrixV))\n",
    "        print(sum(abs((m.dot(matrixV))-matrixV)))\n",
    "        return pageRank(m.dot(matrixV))\n",
    "    else:\n",
    "        count+=1\n",
    "        print(count)\n",
    "        print(m.dot(matrixV))\n",
    "        print(sum(abs((m.dot(matrixV))-matrixV)))\n",
    "        return m.dot(matrixV)"
   ]
  },
  {
   "cell_type": "markdown",
   "metadata": {},
   "source": [
    "## Run PageRank and create file .csv"
   ]
  },
  {
   "cell_type": "code",
   "execution_count": 167,
   "metadata": {},
   "outputs": [
    {
     "name": "stdout",
     "output_type": "stream",
     "text": [
      "1\n",
      "[[3.11475193e-03]\n",
      " [1.91382907e-04]\n",
      " [4.07475320e-05]\n",
      " ...\n",
      " [2.50041674e-05]\n",
      " [2.50041674e-05]\n",
      " [2.50041674e-05]]\n",
      "[0.82220211]\n",
      "2\n",
      "[[1.88308561e-03]\n",
      " [4.36489740e-04]\n",
      " [2.42418995e-05]\n",
      " ...\n",
      " [6.16684711e-06]\n",
      " [6.16684711e-06]\n",
      " [6.16684711e-06]]\n",
      "[0.16297095]\n",
      "3\n",
      "[[2.00943324e-03]\n",
      " [3.03026236e-04]\n",
      " [4.38778754e-05]\n",
      " ...\n",
      " [2.65384435e-06]\n",
      " [2.65384435e-06]\n",
      " [2.65384435e-06]]\n",
      "[0.04766859]\n",
      "4\n",
      "[[1.11027699e-03]\n",
      " [3.06305847e-04]\n",
      " [3.02864428e-05]\n",
      " ...\n",
      " [1.66729826e-06]\n",
      " [1.66729826e-06]\n",
      " [1.66729826e-06]]\n",
      "[0.02186701]\n",
      "5\n",
      "[[1.02307638e-03]\n",
      " [1.94087785e-04]\n",
      " [3.01381198e-05]\n",
      " ...\n",
      " [1.20923420e-06]\n",
      " [1.20923420e-06]\n",
      " [1.20923420e-06]]\n",
      "[0.01364358]\n",
      "6\n",
      "[[6.13562821e-04]\n",
      " [1.70003354e-04]\n",
      " [1.92509091e-05]\n",
      " ...\n",
      " [9.20396127e-07]\n",
      " [9.20396127e-07]\n",
      " [9.20396127e-07]]\n",
      "[0.00945671]\n",
      "7\n",
      "[[5.47168599e-04]\n",
      " [1.11274609e-04]\n",
      " [1.67707065e-05]\n",
      " ...\n",
      " [7.14834175e-07]\n",
      " [7.14834175e-07]\n",
      " [7.14834175e-07]]\n",
      "[0.00691455]\n",
      "8\n",
      "[[3.44350860e-04]\n",
      " [9.36069858e-05]\n",
      " [1.10716228e-05]\n",
      " ...\n",
      " [5.62354248e-07]\n",
      " [5.62354248e-07]\n",
      " [5.62354248e-07]]\n",
      "[0.00517183]\n",
      "9\n",
      "[[2.96245885e-04]\n",
      " [6.34111736e-05]\n",
      " [9.28751328e-06]\n",
      " ...\n",
      " [4.46853512e-07]\n",
      " [4.46853512e-07]\n",
      " [4.46853512e-07]]\n",
      "[0.00394796]\n",
      "10\n",
      "[[1.94735595e-04]\n",
      " [5.18709661e-05]\n",
      " [6.34665949e-06]\n",
      " ...\n",
      " [3.57826426e-07]\n",
      " [3.57826426e-07]\n",
      " [3.57826426e-07]]\n",
      "[0.00304297]\n",
      "11\n",
      "[[1.62660119e-04]\n",
      " [3.62135287e-05]\n",
      " [5.18764472e-06]\n",
      " ...\n",
      " [2.88720144e-07]\n",
      " [2.88720144e-07]\n",
      " [2.88720144e-07]]\n",
      "[0.00237909]\n",
      "12\n",
      "[[1.11269447e-04]\n",
      " [2.90196815e-05]\n",
      " [3.65449631e-06]\n",
      " ...\n",
      " [2.34329713e-07]\n",
      " [2.34329713e-07]\n",
      " [2.34329713e-07]]\n",
      "[0.00187469]\n",
      "13\n",
      "[[9.10085119e-05]\n",
      " [2.08191144e-05]\n",
      " [2.93210081e-06]\n",
      " ...\n",
      " [1.91353111e-07]\n",
      " [1.91353111e-07]\n",
      " [1.91353111e-07]]\n",
      "[0.00149533]\n",
      "14\n",
      "[[6.44254048e-05]\n",
      " [1.64580480e-05]\n",
      " [2.12322402e-06]\n",
      " ...\n",
      " [1.56974322e-07]\n",
      " [1.56974322e-07]\n",
      " [1.56974322e-07]]\n",
      "[0.00119669]\n",
      "15\n",
      "[[5.20206682e-05]\n",
      " [1.20978009e-05]\n",
      " [1.68377896e-06]\n",
      " ...\n",
      " [1.29407758e-07]\n",
      " [1.29407758e-07]\n",
      " [1.29407758e-07]]\n",
      "[0.00096904]\n",
      "[[5.20206682e-05]\n",
      " [1.20978009e-05]\n",
      " [1.68377896e-06]\n",
      " ...\n",
      " [1.29407758e-07]\n",
      " [1.29407758e-07]\n",
      " [1.29407758e-07]]\n"
     ]
    }
   ],
   "source": [
    "result = pageRank(matrixV)\n",
    "print(result)\n",
    "pr = []\n",
    "for i in result:\n",
    "    pr.append(i[0])\n",
    "target = np.arange(1,6000)\n",
    "dataDict = {'target': target, 'pageRank': pr}\n",
    "df = pd.DataFrame(data=dataDict)\n",
    "df.to_csv('pageRank.csv', index = False)"
   ]
  },
  {
   "cell_type": "markdown",
   "metadata": {},
   "source": [
    "## Print top5 PageRank"
   ]
  },
  {
   "cell_type": "code",
   "execution_count": null,
   "metadata": {},
   "outputs": [],
   "source": [
    "#print indices de maior pagerank\n",
    "print(list(result).index(sorted(result, reverse=True)[0]))\n",
    "print(list(result).index(sorted(result, reverse=True)[1]))\n",
    "print(list(result).index(sorted(result, reverse=True)[2]))\n",
    "print(list(result).index(sorted(result, reverse=True)[3]))\n",
    "print(list(result).index(sorted(result, reverse=True)[4]))"
   ]
  },
  {
   "cell_type": "markdown",
   "metadata": {},
   "source": [
    "## Quantas iterações o PageRank precisou rodar até atingir convergência?"
   ]
  },
  {
   "cell_type": "markdown",
   "metadata": {},
   "source": [
    "15 iterações"
   ]
  },
  {
   "cell_type": "markdown",
   "metadata": {},
   "source": [
    "## Quais os 5 investidores mais importantes segundo o PageRank? Quais seus valores de PageRank?"
   ]
  },
  {
   "cell_type": "markdown",
   "metadata": {},
   "source": [
    "O top 5 foram os IDs 202, 144, 3996, 361, 1, com os valores de PageRank 9.245618995053199e-05, 7.937100583753756e-05, 6.976101782184877e-05, 6.013472791713227e-05, 5.202066816598557e-05 respectivamente"
   ]
  },
  {
   "cell_type": "markdown",
   "metadata": {},
   "source": [
    "## Como você poderia usar o PageRank caso você fosse um investidor em bitcoins?"
   ]
  },
  {
   "cell_type": "code",
   "execution_count": null,
   "metadata": {},
   "outputs": [],
   "source": []
  }
 ],
 "metadata": {
  "kernelspec": {
   "display_name": "Python 2",
   "language": "python",
   "name": "python2"
  },
  "language_info": {
   "codemirror_mode": {
    "name": "ipython",
    "version": 2
   },
   "file_extension": ".py",
   "mimetype": "text/x-python",
   "name": "python",
   "nbconvert_exporter": "python",
   "pygments_lexer": "ipython2",
   "version": "2.7.12"
  }
 },
 "nbformat": 4,
 "nbformat_minor": 2
}
