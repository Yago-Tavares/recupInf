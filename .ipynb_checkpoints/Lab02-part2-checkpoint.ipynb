{
 "cells": [
  {
   "cell_type": "code",
   "execution_count": 58,
   "metadata": {},
   "outputs": [],
   "source": [
    "import pandas as pd, numpy as np, csv\n",
    "filename = 'soc-sign-bitcoinotc.csv'\n",
    "file = open(filename, \"r\")\n",
    "reader = csv.reader(file)\n",
    "\n",
    "data = {}\n",
    "for row in reader:\n",
    "    if(row[0] in data):\n",
    "        data[row[0]].append(row[1])\n",
    "    else:\n",
    "        data[row[0]] = [row[1]]"
   ]
  },
  {
   "cell_type": "markdown",
   "metadata": {},
   "source": [
    "## Create connection matrix (Matrix A)"
   ]
  },
  {
   "cell_type": "code",
   "execution_count": 59,
   "metadata": {},
   "outputs": [],
   "source": [
    "matrixA = np.zeros((6005,6005))\n",
    "for i in data:\n",
    "    size = len(list(map(int, data[i])))\n",
    "    for j in data[i]:\n",
    "        matrixA.itemset((int(j)-1, int(i)-1), 1.0/size)"
   ]
  },
  {
   "cell_type": "markdown",
   "metadata": {},
   "source": [
    "## Create matrix B"
   ]
  },
  {
   "cell_type": "code",
   "execution_count": 60,
   "metadata": {},
   "outputs": [
    {
     "name": "stdout",
     "output_type": "stream",
     "text": [
      "2.49791840133e-05\n"
     ]
    }
   ],
   "source": [
    "matrixB = np.empty((6005,6005))\n",
    "result = 0.15/6005\n",
    "print(result)\n",
    "matrixB.fill(result)"
   ]
  },
  {
   "cell_type": "markdown",
   "metadata": {},
   "source": [
    "## Create matrix V"
   ]
  },
  {
   "cell_type": "code",
   "execution_count": 61,
   "metadata": {},
   "outputs": [],
   "source": [
    "matrixV = 1.0/6005 * np.ones((6005, 1))"
   ]
  },
  {
   "cell_type": "markdown",
   "metadata": {},
   "source": [
    "## Calculate M"
   ]
  },
  {
   "cell_type": "code",
   "execution_count": 63,
   "metadata": {},
   "outputs": [],
   "source": [
    "m = (0.85 * matrixA) + matrixB"
   ]
  },
  {
   "cell_type": "markdown",
   "metadata": {},
   "source": [
    "## Calculate pageRank"
   ]
  },
  {
   "cell_type": "code",
   "execution_count": null,
   "metadata": {},
   "outputs": [],
   "source": [
    "count = 0\n",
    "def pageRank(matrixV):\n",
    "    global count\n",
    "    if(sum(abs((m*matrixV)-matrixV)) > 0.001):\n",
    "        count +=1"
   ]
  }
 ],
 "metadata": {
  "kernelspec": {
   "display_name": "Python 2",
   "language": "python",
   "name": "python2"
  },
  "language_info": {
   "codemirror_mode": {
    "name": "ipython",
    "version": 2
   },
   "file_extension": ".py",
   "mimetype": "text/x-python",
   "name": "python",
   "nbconvert_exporter": "python",
   "pygments_lexer": "ipython2",
   "version": "2.7.12"
  }
 },
 "nbformat": 4,
 "nbformat_minor": 2
}
