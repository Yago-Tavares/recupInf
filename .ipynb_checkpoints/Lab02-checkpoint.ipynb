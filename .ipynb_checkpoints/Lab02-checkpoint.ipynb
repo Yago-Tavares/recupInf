{
 "cells": [
  {
   "cell_type": "code",
   "execution_count": 1,
   "metadata": {},
   "outputs": [],
   "source": [
    "import pandas as pd, numpy\n",
    "filename = 'estadao_noticias_eleicao.csv'\n",
    "data = pd.read_csv(filename)"
   ]
  },
  {
   "cell_type": "code",
   "execution_count": 3,
   "metadata": {},
   "outputs": [],
   "source": [
    "#função para fazer busca TF da query nos documentos que estão na lista data\n",
    "def searchTF(query):\n",
    "    searchWords = query.split(\" \")\n",
    "    #Os 5 documentos com maior frequencia\n",
    "    topFive = {}\n",
    "    for i in range(len(data.values)):\n",
    "        documentID, frequence = frequenceDocument(searchWords, data.values[i]);\n",
    "        print \"document\"\n",
    "        print documentID\n",
    "        print \"frequence\"\n",
    "        print frequence\n",
    "        if(len(topFive) < 5):\n",
    "            topFive[documentID]= frequence\n",
    "        else:\n",
    "            for j in topFive.values:\n",
    "                if(frequence > j):\n",
    "                    topFive[documentID]= frequence\n",
    "            \n",
    "#Frequencia das palavras \"query\" no documento \"document\"\n",
    "def frequenceDocument(query, document):\n",
    "    frequence = 0\n",
    "    if(is_number(document[1])):\n",
    "        document[1] = \"\"\n",
    "    if(is_number(document[2])):\n",
    "        document[2] = \"\"\n",
    "    if(is_number(document[3])):\n",
    "        document[3] = \"\"\n",
    "    documentWords = document[1].split(\" \") + document[2].split(\" \") + document[3].split(\" \")\n",
    "    #iteração entre todas as palavras do documento\n",
    "    print query\n",
    "    for word in documentWords:\n",
    "        for q in query:\n",
    "            if(q.lower() == word.lower()):\n",
    "                #frequence +={i:documentWords.count(i) for i in documentWords}[q]\n",
    "                frequence += 1\n",
    "    \n",
    "    return document[5], frequence\n",
    "    \n",
    "    \n",
    "def is_number(s):\n",
    "    try:\n",
    "        float(s)\n",
    "        return True\n",
    "    except ValueError:\n",
    "        return False\n",
    "   "
   ]
  },
  {
   "cell_type": "code",
   "execution_count": 4,
   "metadata": {
    "scrolled": false
   },
   "outputs": [
    {
     "name": "stdout",
     "output_type": "stream",
     "text": [
      "['PT', 'espera', '30', 'mil', 'pessoas', 'em', 'festa', 'na', 'Esplanada', 'Objetivo', '\\xc3\\xa9', 'demonstrar', 'apoio', 'popular', 'a', 'Dilma', 'e', 'tentar', 'reduzir', 'questionamentos', 'dos', 'advers\\xc3\\xa1rios', 'BRAS\\xc3\\x8dLIA', '-', 'Ap\\xc3\\xb3s', 'o', 'desgaste', 'provocado', 'com', 'o', 'lan\\xc3\\xa7amento', 'de', 'medidas', 'impopulares,', 'o', 'an\\xc3\\xbancio', 'de', 'um', 'Minist\\xc3\\xa9rio', 'com', 'nomes', 'contestados', 'pelos', 'movimentos', 'sociais', 'e', 'o', 'surgimento', 'de', 'manifesta\\xc3\\xa7\\xc3\\xb5es', 'pr\\xc3\\xb3-impeachment,', 'o', 'PT', 'pretende', 'mobilizar', 'pelo', 'menos', '30', 'mil', 'pessoas', 'para', 'encher', 'a', 'Esplanada', 'dos', 'Minist\\xc3\\xa9rios', 'e', 'tornar', 'a', 'posse', 'da', 'presidente', 'Dilma', 'Rousseff', 'um', 'grande', 'endosso', 'popular', 'ao', 'segundo', 'mandato', 'da', 'petista.', 'No', 'Pal\\xc3\\xa1cio', 'do', 'Planalto', 'a', 'avalia\\xc3\\xa7\\xc3\\xa3o', '\\xc3\\xa9', 'de', 'que', 'a', 'mobiliza\\xc3\\xa7\\xc3\\xa3o', 'da', 'sociedade', 'civil', '\\xc3\\xa9', 'fundamental', 'para', 'mostrar', 'que', 'a', 'presidente', 'possui', 'legitimidade', 'e', 'apoio', 'popular,', 'o', 'que', 'ajudaria', 'a', 'desencorajar', '\\xe2\\x80\\x9caventureiros\\xe2\\x80\\x9d', 'que', 'queiram', 'questionar', 'o', 'resultado', 'das', 'urnas.', '\\xe2\\x80\\x9cVai', 'ser', 'uma', 'posse', 'de', 'car\\xc3\\xa1ter', 'marcadamente', 'pol\\xc3\\xadtico,', 'no', 'sentido', 'de', 'uma', 'disputa,', 'de', 'uma', 'festa,', 'de', 'celebra\\xc3\\xa7\\xc3\\xa3o', 'de', 'uma', 'vit\\xc3\\xb3ria\\xe2\\x80\\x9d,', 'diz', 'Gilberto', 'Carvalho,', 'que', 'ocupou', 'o', 'cargo', 'de', 'ministro-chefe', 'da', 'Secretaria-Geral', 'da', 'Presid\\xc3\\xaancia', 'da', 'Rep\\xc3\\xbablica.', '\\xe2\\x80\\x9cSe', 'tiver', 'pouca', 'gente,', 'menos', 'de', '10', 'mil', 'pessoas,', '\\xc3\\xa9', 'um', 'convite', 'para', 'que', 'o', 'outro', 'lado', 'fa\\xc3\\xa7a', 'uma', 'provoca\\xc3\\xa7\\xc3\\xa3o.', 'Se', 'n\\xc3\\xb3s', 'botarmos', 'bem', 'mais', 'gente', 'que', 'isso,', 'duvido', 'que', 'algu\\xc3\\xa9m', 'queira', 'nos', 'fazer', 'qualquer', 'provoca\\xc3\\xa7\\xc3\\xa3o.\\xe2\\x80\\x9d', 'O', 'gin\\xc3\\xa1sio', 'Nilson', 'Nelson,', 'no', 'centro', 'de', 'Bras\\xc3\\xadlia,', 'foi', 'cedido', 'pelo', 'governo', 'do', 'Distrito', 'Federal', 'e', 'se', 'tornou', 'abrigo', 'para', 'os', 'militantes', 'que', 'se', 'deslocaram', 'de', '22', 'Estados.', 'Por', 'volta', 'das', '10h30', 'desta', 'quarta-feira,', 'o', 'local', 'estava', 'praticamente', 'vazio,', 'mas', 'a', 'expectativa', 'era', 'a', 'de', 'que', 'entre', '400', 'e', '500', '\\xc3\\xb4nibus', 'chegassem', 'ao', 'longo', 'do', 'dia.', 'As', 'caravanas', 'foram', 'organizadas', 'pelo', 'PT,', 'centrais', 'sindicais', 'e,', 'em', 'alguns', 'casos,', 'pelos', 'pr\\xc3\\xb3prios', 'militantes.', 'O', 'partido', 'n\\xc3\\xa3o', 'informou', 'os', 'gastos', 'com', 'o', 'transporte', 'de', 'pessoas', 'e', 'a', 'realiza\\xc3\\xa7\\xc3\\xa3o', 'da', 'festa,', 'que', 'contar\\xc3\\xa1', 'com', 'shows', 'da', 'sambista', 'Alcione,', 'do', 'rapper', 'GOG', 'e', 'da', 'cantora', 'brasiliense', 'Ellen', 'Ol\\xc3\\xa9ria.', '\\xe2\\x80\\x9cA', 'milit\\xc3\\xa2ncia', 'do', 'PT', 'compareceu', 'em', 'peso', 'na', 'campanha', 'e', 's\\xc3\\xb3', 'n\\xc3\\xa3o', 'est\\xc3\\xa1', 'comparecendo', 'em', 'n\\xc3\\xbamero', 'maior', 'agora', 'porque', 'muitas', 'pessoas', 'n\\xc3\\xa3o', 't\\xc3\\xaam', 'condi\\xc3\\xa7\\xc3\\xa3o', 'de', 'vir\\xe2\\x80\\x9d,', 'afirma', 'Gilberto', 'Carvalho.', '\\xe2\\x80\\x9cEu', 'estou', 'otimista', 'com', 'uma', 'festa', 'bonita.\\xe2\\x80\\x9d', 'Apoio.', 'A', 'artes\\xc3\\xa3', 'Raimunda', 'Edna', 'da', 'Silva,', 'de', '53', 'anos,', 'saiu', 'de', 'Macap\\xc3\\xa1', 'no', 's\\xc3\\xa1bado', 'passado,', 'pegou', 'um', 'navio', 'rumo', 'a', 'Bel\\xc3\\xa9m', 'e', 'de', 'l\\xc3\\xa1', 'seguiu', 'em', 'uma', 'viagem', 'de', '36', 'horas', 'de', '\\xc3\\xb4nibus,', 'que', 'terminou', '\\xc3\\xa0s', '7', 'horas', 'da', 'quarta-feira,', '31.', '\\xe2\\x80\\x9cVir', 'para', 'c\\xc3\\xa1', 'era', 'uma', 'quest\\xc3\\xa3o', 'de', 'honra,', 'porque', 'n\\xc3\\xa3o', 'sei', 'quando', 'vou', 'aplaudir', 'uma', 'outra', 'mulher', 'e', 'uma', 'outra', 'petista', 'na', 'Presid\\xc3\\xaancia', 'da', 'Rep\\xc3\\xbablica\\xe2\\x80\\x9d,', 'diz.', '\\xe2\\x80\\x9cA', 'Dilma', 'vai', 'precisar', 'muito', 'da', 'gente', 'no', 'segundo', 'mandato.\\xe2\\x80\\x9d', 'Para', 'o', 'cantor', 'e', 'compositor', 'Ronaldo', 'Alc\\xc3\\xa2ntara,', '49,', 'a', 'vit\\xc3\\xb3ria', 'apertada,', 'no', '2.\\xc2\\xba', 'turno,', 'de', 'Dilma', 'sobre', 'o', 'senador', 'A\\xc3\\xa9cio', 'Neves,', 'que', 'foi', 'candidato', 'do', 'PSDB', '\\xc3\\xa0', 'Presid\\xc3\\xaancia', 'da', 'Rep\\xc3\\xbablica,', 'fez', 'a', 'milit\\xc3\\xa2ncia', 'se', 'mobilizar', 'para', 'viajar', 'a', 'Bras\\xc3\\xadlia.', '\\xe2\\x80\\x9c\\xc3\\x89', 'importante', 'estar', 'aqui', 'para', 'fortalecer', 'Dilma\\xe2\\x80\\x9d,', 'justifica.', 'A', 'caravana', 'de', 'Bel\\xc3\\xa9m', 'reuniu', '45', 'pessoas,', 'que', 'pagaram', 'uma', 'cota', 'pessoal', 'de', 'R$', '280', 'para', 'fretar', 'um', '\\xc3\\xb4nibus.', 'Na', 'bagagem,', 'eles', 'trouxeram', 'farinha', 'de', 'mandioca', 'e', 'dez', 'litros', 'de', 'a\\xc3\\xa7a\\xc3\\xad.', '\\xe2\\x80\\x9cHouve', 'erros', 'no', 'governo', 'da', 'presidente', 'Dilma,', 'todo', 'mundo', 'erra.', 'Mas', 'os', 'erros', 'foram', 'muito', 'menores', 'do', 'que', 'o', 'de', 'governos', 'anteriores.', 'Fala-se', 'tanto', 'de', 'corrup\\xc3\\xa7\\xc3\\xa3o', 'na', 'Petrobr\\xc3\\xa1s', 'e', 'se', 'esquecem', 'da', 'privatiza\\xc3\\xa7\\xc3\\xa3o', 'da', 'Vale\\xe2\\x80\\x9d,', 'diz', 'o', 'advogado', 'Andrei', 'Mantovani,', '40.', 'Os', 'militantes', 'entrevistados', 'pelo', 'Estado', 'n\\xc3\\xa3o', 'compareceram', '\\xc3\\xa0', 'primeira', 'posse', 'de', 'Dilma,', 'em', '1.\\xc2\\xba', 'de', 'janeiro', 'de', '2011.', 'Chuva.', 'H\\xc3\\xa1', 'quatro', 'anos,', 'a', 'posse', 'de', 'Dilma', 'para', 'o', 'primeiro', 'mandato', 'mobilizou', 'cerca', 'de', '30', 'mil', 'pessoas,', 'que', 'enfrentaram', 'uma', 'forte', 'chuva', 'na', 'Esplanada', 'dos', 'Minist\\xc3\\xa9rios.', 'Dilma', 'foi', 'obrigada', 'a', 'fazer', 'o', 'trajeto', 'at\\xc3\\xa9', 'o', 'Congresso', 'com', 'a', 'capota', 'do', 'Rolls-Royce', 'fechada,', 'o', 'que', 'deixou', 'parte', 'da', 'milit\\xc3\\xa2ncia', 'frustrada.', 'A', 'ocasi\\xc3\\xa3o', 'tamb\\xc3\\xa9m', 'marcou', 'a', 'despedida', 'do', 'ex-presidente', 'Luiz', 'In\\xc3\\xa1cio', 'Lula', 'da', 'Silva.', 'Muitos', 'foram', 'a', 'Bras\\xc3\\xadlia', 'com', 'o', 'objetivo', 'de', 'se', 'despedir', 'dele.', 'Ap\\xc3\\xb3s', 'transmitir', 'o', 'cargo', 'para', 'sua', 'sucessora', 'e', 'recepcionar', 'os', 'chefes', 'de', 'Estado,', 'Lula', 'desceu', 'a', 'rampa', 'do', 'Pal\\xc3\\xa1cio', 'do', 'Planalto', 'para', 'cumprimentar', 'as', 'pessoas', 'que', 'o', 'esperavam', 'na', 'rua.', 'Petistas', 'cantarolavam', 'na', 'Pra\\xc3\\xa7a', 'dos', 'Tr\\xc3\\xaas', 'Poderes', 'o', 'bord\\xc3\\xa3o', '\\xe2\\x80\\x9cOl\\xc3\\xaa,', 'ol\\xc3\\xaa,', 'ol\\xc3\\xaa,', 'ol\\xc3\\xa1,', 'Lula,', 'Lula\\xe2\\x80\\x9d.', 'Em', '2011,', 'o', 'PT', 'tamb\\xc3\\xa9m', 'mobilizou', 'sua', 'milit\\xc3\\xa2ncia', 'para', 'a', 'posse', 'e', 'espalhou', 'bandeiras', 'do', 'partido', 'no', 'trajeto', 'do', 'Rolls-Royce', 'presidencial.', 'T\\xc3\\xadmidas', 'bandeiras', 'do', 'PMDB,', 'partido', 'do', 'vice-presidente', 'Michel', 'Temer,', 'tamb\\xc3\\xa9m', 'foram', 'espalhadas', 'na', 'Pra\\xc3\\xa7a', 'dos', 'Tr\\xc3\\xaas', 'Poderes.', 'A', 'previs\\xc3\\xa3o', 'do', 'tempo', 'em', 'Bras\\xc3\\xadlia', 'para', 'o', 'dia', 'da', 'posse', '\\xc3\\xa9', 'de', 'sol', 'com', 'nuvens', 'e', 'chuvas', 'r\\xc3\\xa1pidas', 'durante', 'o', 'dia', 'e', '\\xc3\\xa0', 'noite.']\n",
      "['segundo', 'turno']\n"
     ]
    },
    {
     "ename": "NameError",
     "evalue": "global name 'noticeWords' is not defined",
     "output_type": "error",
     "traceback": [
      "\u001b[0;31m---------------------------------------------------------------------------\u001b[0m",
      "\u001b[0;31mNameError\u001b[0m                                 Traceback (most recent call last)",
      "\u001b[0;32m<ipython-input-4-5dabd194bf9a>\u001b[0m in \u001b[0;36m<module>\u001b[0;34m()\u001b[0m\n\u001b[0;32m----> 1\u001b[0;31m \u001b[0msearchTF\u001b[0m\u001b[0;34m(\u001b[0m\u001b[0;34m\"segundo turno\"\u001b[0m\u001b[0;34m)\u001b[0m\u001b[0;34m\u001b[0m\u001b[0m\n\u001b[0m",
      "\u001b[0;32m<ipython-input-3-ff4c7861f028>\u001b[0m in \u001b[0;36msearchTF\u001b[0;34m(query)\u001b[0m\n\u001b[1;32m      5\u001b[0m     \u001b[0mtopFive\u001b[0m \u001b[0;34m=\u001b[0m \u001b[0;34m{\u001b[0m\u001b[0;34m}\u001b[0m\u001b[0;34m\u001b[0m\u001b[0m\n\u001b[1;32m      6\u001b[0m     \u001b[0;32mfor\u001b[0m \u001b[0mi\u001b[0m \u001b[0;32min\u001b[0m \u001b[0mrange\u001b[0m\u001b[0;34m(\u001b[0m\u001b[0mlen\u001b[0m\u001b[0;34m(\u001b[0m\u001b[0mdata\u001b[0m\u001b[0;34m.\u001b[0m\u001b[0mvalues\u001b[0m\u001b[0;34m)\u001b[0m\u001b[0;34m)\u001b[0m\u001b[0;34m:\u001b[0m\u001b[0;34m\u001b[0m\u001b[0m\n\u001b[0;32m----> 7\u001b[0;31m         \u001b[0mdocumentID\u001b[0m\u001b[0;34m,\u001b[0m \u001b[0mfrequence\u001b[0m \u001b[0;34m=\u001b[0m \u001b[0mfrequenceDocument\u001b[0m\u001b[0;34m(\u001b[0m\u001b[0msearchWords\u001b[0m\u001b[0;34m,\u001b[0m \u001b[0mdata\u001b[0m\u001b[0;34m.\u001b[0m\u001b[0mvalues\u001b[0m\u001b[0;34m[\u001b[0m\u001b[0mi\u001b[0m\u001b[0;34m]\u001b[0m\u001b[0;34m)\u001b[0m\u001b[0;34m;\u001b[0m\u001b[0;34m\u001b[0m\u001b[0m\n\u001b[0m\u001b[1;32m      8\u001b[0m         \u001b[0;32mprint\u001b[0m \u001b[0;34m\"document\"\u001b[0m\u001b[0;34m\u001b[0m\u001b[0m\n\u001b[1;32m      9\u001b[0m         \u001b[0;32mprint\u001b[0m \u001b[0mdocumentID\u001b[0m\u001b[0;34m\u001b[0m\u001b[0m\n",
      "\u001b[0;32m<ipython-input-3-ff4c7861f028>\u001b[0m in \u001b[0;36mfrequenceDocument\u001b[0;34m(query, document)\u001b[0m\n\u001b[1;32m     30\u001b[0m     \u001b[0;31m#iteração entre todas as palavras do documento\u001b[0m\u001b[0;34m\u001b[0m\u001b[0;34m\u001b[0m\u001b[0m\n\u001b[1;32m     31\u001b[0m     \u001b[0;32mprint\u001b[0m \u001b[0mquery\u001b[0m\u001b[0;34m\u001b[0m\u001b[0m\n\u001b[0;32m---> 32\u001b[0;31m     \u001b[0;32mfor\u001b[0m \u001b[0mword\u001b[0m \u001b[0;32min\u001b[0m \u001b[0mnoticeWords\u001b[0m\u001b[0;34m:\u001b[0m\u001b[0;34m\u001b[0m\u001b[0m\n\u001b[0m\u001b[1;32m     33\u001b[0m         \u001b[0;32mfor\u001b[0m \u001b[0mq\u001b[0m \u001b[0;32min\u001b[0m \u001b[0mquery\u001b[0m\u001b[0;34m:\u001b[0m\u001b[0;34m\u001b[0m\u001b[0m\n\u001b[1;32m     34\u001b[0m             \u001b[0;32mif\u001b[0m\u001b[0;34m(\u001b[0m\u001b[0mq\u001b[0m\u001b[0;34m.\u001b[0m\u001b[0mlower\u001b[0m\u001b[0;34m(\u001b[0m\u001b[0;34m)\u001b[0m \u001b[0;34m==\u001b[0m \u001b[0mword\u001b[0m\u001b[0;34m.\u001b[0m\u001b[0mlower\u001b[0m\u001b[0;34m(\u001b[0m\u001b[0;34m)\u001b[0m\u001b[0;34m)\u001b[0m\u001b[0;34m:\u001b[0m\u001b[0;34m\u001b[0m\u001b[0m\n",
      "\u001b[0;31mNameError\u001b[0m: global name 'noticeWords' is not defined"
     ]
    }
   ],
   "source": [
    "searchTF(\"segundo turno\")"
   ]
  },
  {
   "cell_type": "code",
   "execution_count": null,
   "metadata": {},
   "outputs": [],
   "source": []
  }
 ],
 "metadata": {
  "kernelspec": {
   "display_name": "Python 2",
   "language": "python",
   "name": "python2"
  },
  "language_info": {
   "codemirror_mode": {
    "name": "ipython",
    "version": 2
   },
   "file_extension": ".py",
   "mimetype": "text/x-python",
   "name": "python",
   "nbconvert_exporter": "python",
   "pygments_lexer": "ipython2",
   "version": "2.7.12"
  }
 },
 "nbformat": 4,
 "nbformat_minor": 2
}
