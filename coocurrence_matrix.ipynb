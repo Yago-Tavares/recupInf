{
 "cells": [
  {
   "cell_type": "markdown",
   "metadata": {},
   "source": [
    "## Matrix and Vocabulary Construction"
   ]
  },
  {
   "cell_type": "code",
   "execution_count": 251,
   "metadata": {
    "collapsed": true
   },
   "outputs": [],
   "source": [
    "import pandas as pd\n",
    "import numpy as np\n",
    "from scipy import sparse\n",
    "import nltk\n",
    "from nltk import bigrams    \n",
    "import scipy.sparse as sps"
   ]
  },
  {
   "cell_type": "code",
   "execution_count": 252,
   "metadata": {
    "collapsed": true
   },
   "outputs": [],
   "source": [
    "news = pd.read_csv(\"./estadao_noticias_eleicao.csv\", encoding=\"utf-8\")"
   ]
  },
  {
   "cell_type": "code",
   "execution_count": 253,
   "metadata": {},
   "outputs": [],
   "source": [
    "content = news.titulo + \" \" + news.subTitulo + \" \" + news.conteudo\n",
    "content = content.fillna(\"\")"
   ]
  },
  {
   "cell_type": "code",
   "execution_count": 254,
   "metadata": {
    "collapsed": true
   },
   "outputs": [],
   "source": [
    "def co_occurrence_matrix(corpus):\n",
    "    vocab = set(corpus)\n",
    "    vocab = list(vocab)\n",
    "    n = len(vocab)\n",
    "   \n",
    "    vocab_to_index = {word:i for i, word in enumerate(vocab)}\n",
    "    \n",
    "    bi_grams = list(bigrams(corpus))\n",
    "\n",
    "    bigram_freq = nltk.FreqDist(bi_grams).most_common(len(bi_grams))\n",
    "\n",
    "    I=list()\n",
    "    J=list()\n",
    "    V=list()\n",
    "    \n",
    "    for bigram in bigram_freq:\n",
    "        current = bigram[0][1]\n",
    "        previous = bigram[0][0]\n",
    "        count = bigram[1]\n",
    "\n",
    "        I.append(vocab_to_index[previous])\n",
    "        J.append(vocab_to_index[current])\n",
    "        V.append(count)\n",
    "        \n",
    "    co_occurrence_matrix = sparse.coo_matrix((V,(I,J)), shape=(n,n))\n",
    "\n",
    "    return co_occurrence_matrix, vocab_to_index"
   ]
  },
  {
   "cell_type": "code",
   "execution_count": 255,
   "metadata": {},
   "outputs": [],
   "source": [
    "tokens_lists = content.apply(lambda text: text.lower().split())"
   ]
  },
  {
   "cell_type": "code",
   "execution_count": 256,
   "metadata": {},
   "outputs": [],
   "source": [
    "tokens = [token for tokens_list in tokens_lists for token in tokens_list]"
   ]
  },
  {
   "cell_type": "code",
   "execution_count": 257,
   "metadata": {
    "collapsed": true
   },
   "outputs": [],
   "source": [
    "matrix, vocab = co_occurrence_matrix(tokens)"
   ]
  },
  {
   "cell_type": "markdown",
   "metadata": {},
   "source": [
    "## Consult Bigram Frequency"
   ]
  },
  {
   "cell_type": "code",
   "execution_count": 258,
   "metadata": {
    "collapsed": true
   },
   "outputs": [],
   "source": [
    "consultable_matrix = matrix.tocsr()"
   ]
  },
  {
   "cell_type": "code",
   "execution_count": 259,
   "metadata": {
    "collapsed": true
   },
   "outputs": [],
   "source": [
    "def consult_frequency(w1, w2):\n",
    "    return(consultable_matrix[vocab[w1],vocab[w2]])"
   ]
  },
  {
   "cell_type": "markdown",
   "metadata": {},
   "source": [
    "### Example"
   ]
  },
  {
   "cell_type": "code",
   "execution_count": 260,
   "metadata": {},
   "outputs": [
    {
     "data": {
      "text/plain": [
       "3"
      ]
     },
     "execution_count": 260,
     "metadata": {},
     "output_type": "execute_result"
    }
   ],
   "source": [
    "w1 = 'poucos'\n",
    "w2 = 'recursos'\n",
    "consult_frequency(w1, w2)"
   ]
  },
  {
   "cell_type": "markdown",
   "metadata": {},
   "source": [
    "## Top-3 em ordem decrescente"
   ]
  },
  {
   "cell_type": "code",
   "execution_count": 301,
   "metadata": {},
   "outputs": [],
   "source": [
    "def top3(w1):\n",
    "    top3 = {}\n",
    "    for w in consultable_matrix[vocab[w1]].indices:\n",
    "        if(len(top3) < 3):\n",
    "            top3[w] = consultable_matrix[vocab[w1], w]\n",
    "        else:\n",
    "            if(consultable_matrix[vocab[w1], w] > consultable_matrix[vocab[w1], min(top3, key=top3.get)]):\n",
    "                del top3[min(top3, key=top3.get)]\n",
    "                top3[w] = consultable_matrix[vocab[w1], w]\n",
    "                \n",
    "    words = [str(list(vocab.keys())[list(vocab.values()).index(list(top3.keys())[0])]), str(list(vocab.keys())[list(vocab.values()).index(list(top3.keys())[1])]), str(list(vocab.keys())[list(vocab.values()).index(list(top3.keys())[2])])]\n",
    "    return words\n",
    "                "
   ]
  },
  {
   "cell_type": "code",
   "execution_count": 302,
   "metadata": {},
   "outputs": [
    {
     "name": "stdout",
     "output_type": "stream",
     "text": [
      "['dilma', 'da', 'do']\n"
     ]
    }
   ],
   "source": [
    "print(top3(\"presidente\"))"
   ]
  },
  {
   "cell_type": "markdown",
   "metadata": {},
   "source": [
    "## Expandir consulta original"
   ]
  },
  {
   "cell_type": "code",
   "execution_count": 303,
   "metadata": {},
   "outputs": [],
   "source": [
    "def getIDs(search):\n",
    "    searchWords = search.split(\" \")\n",
    "    wordIDs = []\n",
    "    if(len(searchWords) >=2):\n",
    "        booleanOperator = searchWords[1]\n",
    "        wordIDs1 = []\n",
    "        wordIDs2 = []\n",
    "        for i in tokens_lists:\n",
    "            for w in tokens_lists[i]:\n",
    "                if(searchWords[0].lower() == w.lower()):\n",
    "                    wordIDs1.append(news.values[i][2])\n",
    "                if(searchWords[2].lower() == w.lower()):\n",
    "                    wordIDs2.append(news.values[i][2])\n",
    "                if((searchWords[1] in wordIDs1) and searchWords[2] in wordIDs2):\n",
    "                    break\n",
    "        if(booleanOperator == \"AND\"):\n",
    "            wordIDs = set(wordIDs1).intersection(wordIDs2)\n",
    "        else:\n",
    "            wordIDs = set(wordIDs1).union(wordIDs2)\n",
    "    else:\n",
    "        for i in range(0, len(tokens_lists)):\n",
    "            for w in range(0, len(token_lists)):\n",
    "                if(searchWords[0].lower() == token_lists[w].lower()):\n",
    "                    wordIDs.append(news.values[i][2])  \n",
    "                    break\n",
    "    return wordIDs\n"
   ]
  },
  {
   "cell_type": "code",
   "execution_count": 304,
   "metadata": {},
   "outputs": [],
   "source": [
    "def expandQuery(word, top3):\n",
    "    for w in top3:\n",
    "        query = word + \" OR \" + w\n",
    "        print(query)\n",
    "        print(getIDs(query))"
   ]
  },
  {
   "cell_type": "code",
   "execution_count": 305,
   "metadata": {},
   "outputs": [
    {
     "name": "stdout",
     "output_type": "stream",
     "text": [
      "['e', 'rousseff', 'rousseff,']\n",
      "dilma OR e\n"
     ]
    },
    {
     "ename": "KeyError",
     "evalue": "\"None of [['pt', 'espera', '30', 'mil', 'pessoas', 'em', 'festa', 'na', 'esplanada', 'objetivo', 'é', 'demonstrar', 'apoio', 'popular', 'a', 'dilma', 'e', 'tentar', 'reduzir', 'questionamentos', 'dos', 'adversários', 'brasília', '-', 'após', 'o', 'desgaste', 'provocado', 'com', 'o', 'lançamento', 'de', 'medidas', 'impopulares,', 'o', 'anúncio', 'de', 'um', 'ministério', 'com', 'nomes', 'contestados', 'pelos', 'movimentos', 'sociais', 'e', 'o', 'surgimento', 'de', 'manifestações', 'pró-impeachment,', 'o', 'pt', 'pretende', 'mobilizar', 'pelo', 'menos', '30', 'mil', 'pessoas', 'para', 'encher', 'a', 'esplanada', 'dos', 'ministérios', 'e', 'tornar', 'a', 'posse', 'da', 'presidente', 'dilma', 'rousseff', 'um', 'grande', 'endosso', 'popular', 'ao', 'segundo', 'mandato', 'da', 'petista.', 'no', 'palácio', 'do', 'planalto', 'a', 'avaliação', 'é', 'de', 'que', 'a', 'mobilização', 'da', 'sociedade', 'civil', 'é', 'fundamental', 'para', 'mostrar', 'que', 'a', 'presidente', 'possui', 'legitimidade', 'e', 'apoio', 'popular,', 'o', 'que', 'ajudaria', 'a', 'desencorajar', '“aventureiros”', 'que', 'queiram', 'questionar', 'o', 'resultado', 'das', 'urnas.', '“vai', 'ser', 'uma', 'posse', 'de', 'caráter', 'marcadamente', 'político,', 'no', 'sentido', 'de', 'uma', 'disputa,', 'de', 'uma', 'festa,', 'de', 'celebração', 'de', 'uma', 'vitória”,', 'diz', 'gilberto', 'carvalho,', 'que', 'ocupou', 'o', 'cargo', 'de', 'ministro-chefe', 'da', 'secretaria-geral', 'da', 'presidência', 'da', 'república.', '“se', 'tiver', 'pouca', 'gente,', 'menos', 'de', '10', 'mil', 'pessoas,', 'é', 'um', 'convite', 'para', 'que', 'o', 'outro', 'lado', 'faça', 'uma', 'provocação.', 'se', 'nós', 'botarmos', 'bem', 'mais', 'gente', 'que', 'isso,', 'duvido', 'que', 'alguém', 'queira', 'nos', 'fazer', 'qualquer', 'provocação.”', 'o', 'ginásio', 'nilson', 'nelson,', 'no', 'centro', 'de', 'brasília,', 'foi', 'cedido', 'pelo', 'governo', 'do', 'distrito', 'federal', 'e', 'se', 'tornou', 'abrigo', 'para', 'os', 'militantes', 'que', 'se', 'deslocaram', 'de', '22', 'estados.', 'por', 'volta', 'das', '10h30', 'desta', 'quarta-feira,', 'o', 'local', 'estava', 'praticamente', 'vazio,', 'mas', 'a', 'expectativa', 'era', 'a', 'de', 'que', 'entre', '400', 'e', '500', 'ônibus', 'chegassem', 'ao', 'longo', 'do', 'dia.', 'as', 'caravanas', 'foram', 'organizadas', 'pelo', 'pt,', 'centrais', 'sindicais', 'e,', 'em', 'alguns', 'casos,', 'pelos', 'próprios', 'militantes.', 'o', 'partido', 'não', 'informou', 'os', 'gastos', 'com', 'o', 'transporte', 'de', 'pessoas', 'e', 'a', 'realização', 'da', 'festa,', 'que', 'contará', 'com', 'shows', 'da', 'sambista', 'alcione,', 'do', 'rapper', 'gog', 'e', 'da', 'cantora', 'brasiliense', 'ellen', 'oléria.', '“a', 'militância', 'do', 'pt', 'compareceu', 'em', 'peso', 'na', 'campanha', 'e', 'só', 'não', 'está', 'comparecendo', 'em', 'número', 'maior', 'agora', 'porque', 'muitas', 'pessoas', 'não', 'têm', 'condição', 'de', 'vir”,', 'afirma', 'gilberto', 'carvalho.', '“eu', 'estou', 'otimista', 'com', 'uma', 'festa', 'bonita.”', 'apoio.', 'a', 'artesã', 'raimunda', 'edna', 'da', 'silva,', 'de', '53', 'anos,', 'saiu', 'de', 'macapá', 'no', 'sábado', 'passado,', 'pegou', 'um', 'navio', 'rumo', 'a', 'belém', 'e', 'de', 'lá', 'seguiu', 'em', 'uma', 'viagem', 'de', '36', 'horas', 'de', 'ônibus,', 'que', 'terminou', 'às', '7', 'horas', 'da', 'quarta-feira,', '31.', '“vir', 'para', 'cá', 'era', 'uma', 'questão', 'de', 'honra,', 'porque', 'não', 'sei', 'quando', 'vou', 'aplaudir', 'uma', 'outra', 'mulher', 'e', 'uma', 'outra', 'petista', 'na', 'presidência', 'da', 'república”,', 'diz.', '“a', 'dilma', 'vai', 'precisar', 'muito', 'da', 'gente', 'no', 'segundo', 'mandato.”', 'para', 'o', 'cantor', 'e', 'compositor', 'ronaldo', 'alcântara,', '49,', 'a', 'vitória', 'apertada,', 'no', '2.º', 'turno,', 'de', 'dilma', 'sobre', 'o', 'senador', 'aécio', 'neves,', 'que', 'foi', 'candidato', 'do', 'psdb', 'à', 'presidência', 'da', 'república,', 'fez', 'a', 'militância', 'se', 'mobilizar', 'para', 'viajar', 'a', 'brasília.', '“é', 'importante', 'estar', 'aqui', 'para', 'fortalecer', 'dilma”,', 'justifica.', 'a', 'caravana', 'de', 'belém', 'reuniu', '45', 'pessoas,', 'que', 'pagaram', 'uma', 'cota', 'pessoal', 'de', 'r$', '280', 'para', 'fretar', 'um', 'ônibus.', 'na', 'bagagem,', 'eles', 'trouxeram', 'farinha', 'de', 'mandioca', 'e', 'dez', 'litros', 'de', 'açaí.', '“houve', 'erros', 'no', 'governo', 'da', 'presidente', 'dilma,', 'todo', 'mundo', 'erra.', 'mas', 'os', 'erros', 'foram', 'muito', 'menores', 'do', 'que', 'o', 'de', 'governos', 'anteriores.', 'fala-se', 'tanto', 'de', 'corrupção', 'na', 'petrobrás', 'e', 'se', 'esquecem', 'da', 'privatização', 'da', 'vale”,', 'diz', 'o', 'advogado', 'andrei', 'mantovani,', '40.', 'os', 'militantes', 'entrevistados', 'pelo', 'estado', 'não', 'compareceram', 'à', 'primeira', 'posse', 'de', 'dilma,', 'em', '1.º', 'de', 'janeiro', 'de', '2011.', 'chuva.', 'há', 'quatro', 'anos,', 'a', 'posse', 'de', 'dilma', 'para', 'o', 'primeiro', 'mandato', 'mobilizou', 'cerca', 'de', '30', 'mil', 'pessoas,', 'que', 'enfrentaram', 'uma', 'forte', 'chuva', 'na', 'esplanada', 'dos', 'ministérios.', 'dilma', 'foi', 'obrigada', 'a', 'fazer', 'o', 'trajeto', 'até', 'o', 'congresso', 'com', 'a', 'capota', 'do', 'rolls-royce', 'fechada,', 'o', 'que', 'deixou', 'parte', 'da', 'militância', 'frustrada.', 'a', 'ocasião', 'também', 'marcou', 'a', 'despedida', 'do', 'ex-presidente', 'luiz', 'inácio', 'lula', 'da', 'silva.', 'muitos', 'foram', 'a', 'brasília', 'com', 'o', 'objetivo', 'de', 'se', 'despedir', 'dele.', 'após', 'transmitir', 'o', 'cargo', 'para', 'sua', 'sucessora', 'e', 'recepcionar', 'os', 'chefes', 'de', 'estado,', 'lula', 'desceu', 'a', 'rampa', 'do', 'palácio', 'do', 'planalto', 'para', 'cumprimentar', 'as', 'pessoas', 'que', 'o', 'esperavam', 'na', 'rua.', 'petistas', 'cantarolavam', 'na', 'praça', 'dos', 'três', 'poderes', 'o', 'bordão', '“olê,', 'olê,', 'olê,', 'olá,', 'lula,', 'lula”.', 'em', '2011,', 'o', 'pt', 'também', 'mobilizou', 'sua', 'militância', 'para', 'a', 'posse', 'e', 'espalhou', 'bandeiras', 'do', 'partido', 'no', 'trajeto', 'do', 'rolls-royce', 'presidencial.', 'tímidas', 'bandeiras', 'do', 'pmdb,', 'partido', 'do', 'vice-presidente', 'michel', 'temer,', 'também', 'foram', 'espalhadas', 'na', 'praça', 'dos', 'três', 'poderes.', 'a', 'previsão', 'do', 'tempo', 'em', 'brasília', 'para', 'o', 'dia', 'da', 'posse', 'é', 'de', 'sol', 'com', 'nuvens', 'e', 'chuvas', 'rápidas', 'durante', 'o', 'dia', 'e', 'à', 'noite.']] are in the [index]\"",
     "output_type": "error",
     "traceback": [
      "\u001b[0;31m---------------------------------------------------------------------------\u001b[0m",
      "\u001b[0;31mKeyError\u001b[0m                                  Traceback (most recent call last)",
      "\u001b[0;32m<ipython-input-305-863c8594bf15>\u001b[0m in \u001b[0;36m<module>\u001b[0;34m()\u001b[0m\n\u001b[1;32m      1\u001b[0m \u001b[0mtop3\u001b[0m \u001b[0;34m=\u001b[0m \u001b[0mtop3\u001b[0m\u001b[0;34m(\u001b[0m\u001b[0;34m\"dilma\"\u001b[0m\u001b[0;34m)\u001b[0m\u001b[0;34m\u001b[0m\u001b[0m\n\u001b[1;32m      2\u001b[0m \u001b[0mprint\u001b[0m\u001b[0;34m(\u001b[0m\u001b[0mtop3\u001b[0m\u001b[0;34m)\u001b[0m\u001b[0;34m\u001b[0m\u001b[0m\n\u001b[0;32m----> 3\u001b[0;31m \u001b[0mexpandQuery\u001b[0m\u001b[0;34m(\u001b[0m\u001b[0;34m\"dilma\"\u001b[0m\u001b[0;34m,\u001b[0m \u001b[0mtop3\u001b[0m\u001b[0;34m)\u001b[0m\u001b[0;34m\u001b[0m\u001b[0m\n\u001b[0m",
      "\u001b[0;32m<ipython-input-304-75afd852b13c>\u001b[0m in \u001b[0;36mexpandQuery\u001b[0;34m(word, top3)\u001b[0m\n\u001b[1;32m      3\u001b[0m         \u001b[0mquery\u001b[0m \u001b[0;34m=\u001b[0m \u001b[0mword\u001b[0m \u001b[0;34m+\u001b[0m \u001b[0;34m\" OR \"\u001b[0m \u001b[0;34m+\u001b[0m \u001b[0mw\u001b[0m\u001b[0;34m\u001b[0m\u001b[0m\n\u001b[1;32m      4\u001b[0m         \u001b[0mprint\u001b[0m\u001b[0;34m(\u001b[0m\u001b[0mquery\u001b[0m\u001b[0;34m)\u001b[0m\u001b[0;34m\u001b[0m\u001b[0m\n\u001b[0;32m----> 5\u001b[0;31m         \u001b[0mprint\u001b[0m\u001b[0;34m(\u001b[0m\u001b[0mgetIDs\u001b[0m\u001b[0;34m(\u001b[0m\u001b[0mquery\u001b[0m\u001b[0;34m)\u001b[0m\u001b[0;34m)\u001b[0m\u001b[0;34m\u001b[0m\u001b[0m\n\u001b[0m",
      "\u001b[0;32m<ipython-input-303-a8eded938d1c>\u001b[0m in \u001b[0;36mgetIDs\u001b[0;34m(search)\u001b[0m\n\u001b[1;32m      7\u001b[0m         \u001b[0mwordIDs2\u001b[0m \u001b[0;34m=\u001b[0m \u001b[0;34m[\u001b[0m\u001b[0;34m]\u001b[0m\u001b[0;34m\u001b[0m\u001b[0m\n\u001b[1;32m      8\u001b[0m         \u001b[0;32mfor\u001b[0m \u001b[0mi\u001b[0m \u001b[0;32min\u001b[0m \u001b[0mtokens_lists\u001b[0m\u001b[0;34m:\u001b[0m\u001b[0;34m\u001b[0m\u001b[0m\n\u001b[0;32m----> 9\u001b[0;31m             \u001b[0;32mfor\u001b[0m \u001b[0mw\u001b[0m \u001b[0;32min\u001b[0m \u001b[0mtokens_lists\u001b[0m\u001b[0;34m[\u001b[0m\u001b[0mi\u001b[0m\u001b[0;34m]\u001b[0m\u001b[0;34m:\u001b[0m\u001b[0;34m\u001b[0m\u001b[0m\n\u001b[0m\u001b[1;32m     10\u001b[0m                 \u001b[0;32mif\u001b[0m\u001b[0;34m(\u001b[0m\u001b[0msearchWords\u001b[0m\u001b[0;34m[\u001b[0m\u001b[0;36m0\u001b[0m\u001b[0;34m]\u001b[0m\u001b[0;34m.\u001b[0m\u001b[0mlower\u001b[0m\u001b[0;34m(\u001b[0m\u001b[0;34m)\u001b[0m \u001b[0;34m==\u001b[0m \u001b[0mw\u001b[0m\u001b[0;34m.\u001b[0m\u001b[0mlower\u001b[0m\u001b[0;34m(\u001b[0m\u001b[0;34m)\u001b[0m\u001b[0;34m)\u001b[0m\u001b[0;34m:\u001b[0m\u001b[0;34m\u001b[0m\u001b[0m\n\u001b[1;32m     11\u001b[0m                     \u001b[0mwordIDs1\u001b[0m\u001b[0;34m.\u001b[0m\u001b[0mappend\u001b[0m\u001b[0;34m(\u001b[0m\u001b[0mnews\u001b[0m\u001b[0;34m.\u001b[0m\u001b[0mvalues\u001b[0m\u001b[0;34m[\u001b[0m\u001b[0mi\u001b[0m\u001b[0;34m]\u001b[0m\u001b[0;34m[\u001b[0m\u001b[0;36m2\u001b[0m\u001b[0;34m]\u001b[0m\u001b[0;34m)\u001b[0m\u001b[0;34m\u001b[0m\u001b[0m\n",
      "\u001b[0;32m/opt/anaconda/anaconda3/lib/python3.6/site-packages/pandas/core/series.py\u001b[0m in \u001b[0;36m__getitem__\u001b[0;34m(self, key)\u001b[0m\n\u001b[1;32m    640\u001b[0m             \u001b[0mkey\u001b[0m \u001b[0;34m=\u001b[0m \u001b[0mcheck_bool_indexer\u001b[0m\u001b[0;34m(\u001b[0m\u001b[0mself\u001b[0m\u001b[0;34m.\u001b[0m\u001b[0mindex\u001b[0m\u001b[0;34m,\u001b[0m \u001b[0mkey\u001b[0m\u001b[0;34m)\u001b[0m\u001b[0;34m\u001b[0m\u001b[0m\n\u001b[1;32m    641\u001b[0m \u001b[0;34m\u001b[0m\u001b[0m\n\u001b[0;32m--> 642\u001b[0;31m         \u001b[0;32mreturn\u001b[0m \u001b[0mself\u001b[0m\u001b[0;34m.\u001b[0m\u001b[0m_get_with\u001b[0m\u001b[0;34m(\u001b[0m\u001b[0mkey\u001b[0m\u001b[0;34m)\u001b[0m\u001b[0;34m\u001b[0m\u001b[0m\n\u001b[0m\u001b[1;32m    643\u001b[0m \u001b[0;34m\u001b[0m\u001b[0m\n\u001b[1;32m    644\u001b[0m     \u001b[0;32mdef\u001b[0m \u001b[0m_get_with\u001b[0m\u001b[0;34m(\u001b[0m\u001b[0mself\u001b[0m\u001b[0;34m,\u001b[0m \u001b[0mkey\u001b[0m\u001b[0;34m)\u001b[0m\u001b[0;34m:\u001b[0m\u001b[0;34m\u001b[0m\u001b[0m\n",
      "\u001b[0;32m/opt/anaconda/anaconda3/lib/python3.6/site-packages/pandas/core/series.py\u001b[0m in \u001b[0;36m_get_with\u001b[0;34m(self, key)\u001b[0m\n\u001b[1;32m    681\u001b[0m                     \u001b[0;31m# handle the dup indexing case (GH 4246)\u001b[0m\u001b[0;34m\u001b[0m\u001b[0;34m\u001b[0m\u001b[0m\n\u001b[1;32m    682\u001b[0m                     \u001b[0;32mif\u001b[0m \u001b[0misinstance\u001b[0m\u001b[0;34m(\u001b[0m\u001b[0mkey\u001b[0m\u001b[0;34m,\u001b[0m \u001b[0;34m(\u001b[0m\u001b[0mlist\u001b[0m\u001b[0;34m,\u001b[0m \u001b[0mtuple\u001b[0m\u001b[0;34m)\u001b[0m\u001b[0;34m)\u001b[0m\u001b[0;34m:\u001b[0m\u001b[0;34m\u001b[0m\u001b[0m\n\u001b[0;32m--> 683\u001b[0;31m                         \u001b[0;32mreturn\u001b[0m \u001b[0mself\u001b[0m\u001b[0;34m.\u001b[0m\u001b[0mloc\u001b[0m\u001b[0;34m[\u001b[0m\u001b[0mkey\u001b[0m\u001b[0;34m]\u001b[0m\u001b[0;34m\u001b[0m\u001b[0m\n\u001b[0m\u001b[1;32m    684\u001b[0m \u001b[0;34m\u001b[0m\u001b[0m\n\u001b[1;32m    685\u001b[0m                     \u001b[0;32mreturn\u001b[0m \u001b[0mself\u001b[0m\u001b[0;34m.\u001b[0m\u001b[0mreindex\u001b[0m\u001b[0;34m(\u001b[0m\u001b[0mkey\u001b[0m\u001b[0;34m)\u001b[0m\u001b[0;34m\u001b[0m\u001b[0m\n",
      "\u001b[0;32m/opt/anaconda/anaconda3/lib/python3.6/site-packages/pandas/core/indexing.py\u001b[0m in \u001b[0;36m__getitem__\u001b[0;34m(self, key)\u001b[0m\n\u001b[1;32m   1326\u001b[0m         \u001b[0;32melse\u001b[0m\u001b[0;34m:\u001b[0m\u001b[0;34m\u001b[0m\u001b[0m\n\u001b[1;32m   1327\u001b[0m             \u001b[0mkey\u001b[0m \u001b[0;34m=\u001b[0m \u001b[0mcom\u001b[0m\u001b[0;34m.\u001b[0m\u001b[0m_apply_if_callable\u001b[0m\u001b[0;34m(\u001b[0m\u001b[0mkey\u001b[0m\u001b[0;34m,\u001b[0m \u001b[0mself\u001b[0m\u001b[0;34m.\u001b[0m\u001b[0mobj\u001b[0m\u001b[0;34m)\u001b[0m\u001b[0;34m\u001b[0m\u001b[0m\n\u001b[0;32m-> 1328\u001b[0;31m             \u001b[0;32mreturn\u001b[0m \u001b[0mself\u001b[0m\u001b[0;34m.\u001b[0m\u001b[0m_getitem_axis\u001b[0m\u001b[0;34m(\u001b[0m\u001b[0mkey\u001b[0m\u001b[0;34m,\u001b[0m \u001b[0maxis\u001b[0m\u001b[0;34m=\u001b[0m\u001b[0;36m0\u001b[0m\u001b[0;34m)\u001b[0m\u001b[0;34m\u001b[0m\u001b[0m\n\u001b[0m\u001b[1;32m   1329\u001b[0m \u001b[0;34m\u001b[0m\u001b[0m\n\u001b[1;32m   1330\u001b[0m     \u001b[0;32mdef\u001b[0m \u001b[0m_is_scalar_access\u001b[0m\u001b[0;34m(\u001b[0m\u001b[0mself\u001b[0m\u001b[0;34m,\u001b[0m \u001b[0mkey\u001b[0m\u001b[0;34m)\u001b[0m\u001b[0;34m:\u001b[0m\u001b[0;34m\u001b[0m\u001b[0m\n",
      "\u001b[0;32m/opt/anaconda/anaconda3/lib/python3.6/site-packages/pandas/core/indexing.py\u001b[0m in \u001b[0;36m_getitem_axis\u001b[0;34m(self, key, axis)\u001b[0m\n\u001b[1;32m   1539\u001b[0m                     \u001b[0;32mraise\u001b[0m \u001b[0mValueError\u001b[0m\u001b[0;34m(\u001b[0m\u001b[0;34m'Cannot index with multidimensional key'\u001b[0m\u001b[0;34m)\u001b[0m\u001b[0;34m\u001b[0m\u001b[0m\n\u001b[1;32m   1540\u001b[0m \u001b[0;34m\u001b[0m\u001b[0m\n\u001b[0;32m-> 1541\u001b[0;31m                 \u001b[0;32mreturn\u001b[0m \u001b[0mself\u001b[0m\u001b[0;34m.\u001b[0m\u001b[0m_getitem_iterable\u001b[0m\u001b[0;34m(\u001b[0m\u001b[0mkey\u001b[0m\u001b[0;34m,\u001b[0m \u001b[0maxis\u001b[0m\u001b[0;34m=\u001b[0m\u001b[0maxis\u001b[0m\u001b[0;34m)\u001b[0m\u001b[0;34m\u001b[0m\u001b[0m\n\u001b[0m\u001b[1;32m   1542\u001b[0m \u001b[0;34m\u001b[0m\u001b[0m\n\u001b[1;32m   1543\u001b[0m             \u001b[0;31m# nested tuple slicing\u001b[0m\u001b[0;34m\u001b[0m\u001b[0;34m\u001b[0m\u001b[0m\n",
      "\u001b[0;32m/opt/anaconda/anaconda3/lib/python3.6/site-packages/pandas/core/indexing.py\u001b[0m in \u001b[0;36m_getitem_iterable\u001b[0;34m(self, key, axis)\u001b[0m\n\u001b[1;32m   1079\u001b[0m     \u001b[0;32mdef\u001b[0m \u001b[0m_getitem_iterable\u001b[0m\u001b[0;34m(\u001b[0m\u001b[0mself\u001b[0m\u001b[0;34m,\u001b[0m \u001b[0mkey\u001b[0m\u001b[0;34m,\u001b[0m \u001b[0maxis\u001b[0m\u001b[0;34m=\u001b[0m\u001b[0;36m0\u001b[0m\u001b[0;34m)\u001b[0m\u001b[0;34m:\u001b[0m\u001b[0;34m\u001b[0m\u001b[0m\n\u001b[1;32m   1080\u001b[0m         \u001b[0;32mif\u001b[0m \u001b[0mself\u001b[0m\u001b[0;34m.\u001b[0m\u001b[0m_should_validate_iterable\u001b[0m\u001b[0;34m(\u001b[0m\u001b[0maxis\u001b[0m\u001b[0;34m)\u001b[0m\u001b[0;34m:\u001b[0m\u001b[0;34m\u001b[0m\u001b[0m\n\u001b[0;32m-> 1081\u001b[0;31m             \u001b[0mself\u001b[0m\u001b[0;34m.\u001b[0m\u001b[0m_has_valid_type\u001b[0m\u001b[0;34m(\u001b[0m\u001b[0mkey\u001b[0m\u001b[0;34m,\u001b[0m \u001b[0maxis\u001b[0m\u001b[0;34m)\u001b[0m\u001b[0;34m\u001b[0m\u001b[0m\n\u001b[0m\u001b[1;32m   1082\u001b[0m \u001b[0;34m\u001b[0m\u001b[0m\n\u001b[1;32m   1083\u001b[0m         \u001b[0mlabels\u001b[0m \u001b[0;34m=\u001b[0m \u001b[0mself\u001b[0m\u001b[0;34m.\u001b[0m\u001b[0mobj\u001b[0m\u001b[0;34m.\u001b[0m\u001b[0m_get_axis\u001b[0m\u001b[0;34m(\u001b[0m\u001b[0maxis\u001b[0m\u001b[0;34m)\u001b[0m\u001b[0;34m\u001b[0m\u001b[0m\n",
      "\u001b[0;32m/opt/anaconda/anaconda3/lib/python3.6/site-packages/pandas/core/indexing.py\u001b[0m in \u001b[0;36m_has_valid_type\u001b[0;34m(self, key, axis)\u001b[0m\n\u001b[1;32m   1416\u001b[0m \u001b[0;34m\u001b[0m\u001b[0m\n\u001b[1;32m   1417\u001b[0m                 raise KeyError(\"None of [%s] are in the [%s]\" %\n\u001b[0;32m-> 1418\u001b[0;31m                                (key, self.obj._get_axis_name(axis)))\n\u001b[0m\u001b[1;32m   1419\u001b[0m \u001b[0;34m\u001b[0m\u001b[0m\n\u001b[1;32m   1420\u001b[0m             \u001b[0;32mreturn\u001b[0m \u001b[0;32mTrue\u001b[0m\u001b[0;34m\u001b[0m\u001b[0m\n",
      "\u001b[0;31mKeyError\u001b[0m: \"None of [['pt', 'espera', '30', 'mil', 'pessoas', 'em', 'festa', 'na', 'esplanada', 'objetivo', 'é', 'demonstrar', 'apoio', 'popular', 'a', 'dilma', 'e', 'tentar', 'reduzir', 'questionamentos', 'dos', 'adversários', 'brasília', '-', 'após', 'o', 'desgaste', 'provocado', 'com', 'o', 'lançamento', 'de', 'medidas', 'impopulares,', 'o', 'anúncio', 'de', 'um', 'ministério', 'com', 'nomes', 'contestados', 'pelos', 'movimentos', 'sociais', 'e', 'o', 'surgimento', 'de', 'manifestações', 'pró-impeachment,', 'o', 'pt', 'pretende', 'mobilizar', 'pelo', 'menos', '30', 'mil', 'pessoas', 'para', 'encher', 'a', 'esplanada', 'dos', 'ministérios', 'e', 'tornar', 'a', 'posse', 'da', 'presidente', 'dilma', 'rousseff', 'um', 'grande', 'endosso', 'popular', 'ao', 'segundo', 'mandato', 'da', 'petista.', 'no', 'palácio', 'do', 'planalto', 'a', 'avaliação', 'é', 'de', 'que', 'a', 'mobilização', 'da', 'sociedade', 'civil', 'é', 'fundamental', 'para', 'mostrar', 'que', 'a', 'presidente', 'possui', 'legitimidade', 'e', 'apoio', 'popular,', 'o', 'que', 'ajudaria', 'a', 'desencorajar', '“aventureiros”', 'que', 'queiram', 'questionar', 'o', 'resultado', 'das', 'urnas.', '“vai', 'ser', 'uma', 'posse', 'de', 'caráter', 'marcadamente', 'político,', 'no', 'sentido', 'de', 'uma', 'disputa,', 'de', 'uma', 'festa,', 'de', 'celebração', 'de', 'uma', 'vitória”,', 'diz', 'gilberto', 'carvalho,', 'que', 'ocupou', 'o', 'cargo', 'de', 'ministro-chefe', 'da', 'secretaria-geral', 'da', 'presidência', 'da', 'república.', '“se', 'tiver', 'pouca', 'gente,', 'menos', 'de', '10', 'mil', 'pessoas,', 'é', 'um', 'convite', 'para', 'que', 'o', 'outro', 'lado', 'faça', 'uma', 'provocação.', 'se', 'nós', 'botarmos', 'bem', 'mais', 'gente', 'que', 'isso,', 'duvido', 'que', 'alguém', 'queira', 'nos', 'fazer', 'qualquer', 'provocação.”', 'o', 'ginásio', 'nilson', 'nelson,', 'no', 'centro', 'de', 'brasília,', 'foi', 'cedido', 'pelo', 'governo', 'do', 'distrito', 'federal', 'e', 'se', 'tornou', 'abrigo', 'para', 'os', 'militantes', 'que', 'se', 'deslocaram', 'de', '22', 'estados.', 'por', 'volta', 'das', '10h30', 'desta', 'quarta-feira,', 'o', 'local', 'estava', 'praticamente', 'vazio,', 'mas', 'a', 'expectativa', 'era', 'a', 'de', 'que', 'entre', '400', 'e', '500', 'ônibus', 'chegassem', 'ao', 'longo', 'do', 'dia.', 'as', 'caravanas', 'foram', 'organizadas', 'pelo', 'pt,', 'centrais', 'sindicais', 'e,', 'em', 'alguns', 'casos,', 'pelos', 'próprios', 'militantes.', 'o', 'partido', 'não', 'informou', 'os', 'gastos', 'com', 'o', 'transporte', 'de', 'pessoas', 'e', 'a', 'realização', 'da', 'festa,', 'que', 'contará', 'com', 'shows', 'da', 'sambista', 'alcione,', 'do', 'rapper', 'gog', 'e', 'da', 'cantora', 'brasiliense', 'ellen', 'oléria.', '“a', 'militância', 'do', 'pt', 'compareceu', 'em', 'peso', 'na', 'campanha', 'e', 'só', 'não', 'está', 'comparecendo', 'em', 'número', 'maior', 'agora', 'porque', 'muitas', 'pessoas', 'não', 'têm', 'condição', 'de', 'vir”,', 'afirma', 'gilberto', 'carvalho.', '“eu', 'estou', 'otimista', 'com', 'uma', 'festa', 'bonita.”', 'apoio.', 'a', 'artesã', 'raimunda', 'edna', 'da', 'silva,', 'de', '53', 'anos,', 'saiu', 'de', 'macapá', 'no', 'sábado', 'passado,', 'pegou', 'um', 'navio', 'rumo', 'a', 'belém', 'e', 'de', 'lá', 'seguiu', 'em', 'uma', 'viagem', 'de', '36', 'horas', 'de', 'ônibus,', 'que', 'terminou', 'às', '7', 'horas', 'da', 'quarta-feira,', '31.', '“vir', 'para', 'cá', 'era', 'uma', 'questão', 'de', 'honra,', 'porque', 'não', 'sei', 'quando', 'vou', 'aplaudir', 'uma', 'outra', 'mulher', 'e', 'uma', 'outra', 'petista', 'na', 'presidência', 'da', 'república”,', 'diz.', '“a', 'dilma', 'vai', 'precisar', 'muito', 'da', 'gente', 'no', 'segundo', 'mandato.”', 'para', 'o', 'cantor', 'e', 'compositor', 'ronaldo', 'alcântara,', '49,', 'a', 'vitória', 'apertada,', 'no', '2.º', 'turno,', 'de', 'dilma', 'sobre', 'o', 'senador', 'aécio', 'neves,', 'que', 'foi', 'candidato', 'do', 'psdb', 'à', 'presidência', 'da', 'república,', 'fez', 'a', 'militância', 'se', 'mobilizar', 'para', 'viajar', 'a', 'brasília.', '“é', 'importante', 'estar', 'aqui', 'para', 'fortalecer', 'dilma”,', 'justifica.', 'a', 'caravana', 'de', 'belém', 'reuniu', '45', 'pessoas,', 'que', 'pagaram', 'uma', 'cota', 'pessoal', 'de', 'r$', '280', 'para', 'fretar', 'um', 'ônibus.', 'na', 'bagagem,', 'eles', 'trouxeram', 'farinha', 'de', 'mandioca', 'e', 'dez', 'litros', 'de', 'açaí.', '“houve', 'erros', 'no', 'governo', 'da', 'presidente', 'dilma,', 'todo', 'mundo', 'erra.', 'mas', 'os', 'erros', 'foram', 'muito', 'menores', 'do', 'que', 'o', 'de', 'governos', 'anteriores.', 'fala-se', 'tanto', 'de', 'corrupção', 'na', 'petrobrás', 'e', 'se', 'esquecem', 'da', 'privatização', 'da', 'vale”,', 'diz', 'o', 'advogado', 'andrei', 'mantovani,', '40.', 'os', 'militantes', 'entrevistados', 'pelo', 'estado', 'não', 'compareceram', 'à', 'primeira', 'posse', 'de', 'dilma,', 'em', '1.º', 'de', 'janeiro', 'de', '2011.', 'chuva.', 'há', 'quatro', 'anos,', 'a', 'posse', 'de', 'dilma', 'para', 'o', 'primeiro', 'mandato', 'mobilizou', 'cerca', 'de', '30', 'mil', 'pessoas,', 'que', 'enfrentaram', 'uma', 'forte', 'chuva', 'na', 'esplanada', 'dos', 'ministérios.', 'dilma', 'foi', 'obrigada', 'a', 'fazer', 'o', 'trajeto', 'até', 'o', 'congresso', 'com', 'a', 'capota', 'do', 'rolls-royce', 'fechada,', 'o', 'que', 'deixou', 'parte', 'da', 'militância', 'frustrada.', 'a', 'ocasião', 'também', 'marcou', 'a', 'despedida', 'do', 'ex-presidente', 'luiz', 'inácio', 'lula', 'da', 'silva.', 'muitos', 'foram', 'a', 'brasília', 'com', 'o', 'objetivo', 'de', 'se', 'despedir', 'dele.', 'após', 'transmitir', 'o', 'cargo', 'para', 'sua', 'sucessora', 'e', 'recepcionar', 'os', 'chefes', 'de', 'estado,', 'lula', 'desceu', 'a', 'rampa', 'do', 'palácio', 'do', 'planalto', 'para', 'cumprimentar', 'as', 'pessoas', 'que', 'o', 'esperavam', 'na', 'rua.', 'petistas', 'cantarolavam', 'na', 'praça', 'dos', 'três', 'poderes', 'o', 'bordão', '“olê,', 'olê,', 'olê,', 'olá,', 'lula,', 'lula”.', 'em', '2011,', 'o', 'pt', 'também', 'mobilizou', 'sua', 'militância', 'para', 'a', 'posse', 'e', 'espalhou', 'bandeiras', 'do', 'partido', 'no', 'trajeto', 'do', 'rolls-royce', 'presidencial.', 'tímidas', 'bandeiras', 'do', 'pmdb,', 'partido', 'do', 'vice-presidente', 'michel', 'temer,', 'também', 'foram', 'espalhadas', 'na', 'praça', 'dos', 'três', 'poderes.', 'a', 'previsão', 'do', 'tempo', 'em', 'brasília', 'para', 'o', 'dia', 'da', 'posse', 'é', 'de', 'sol', 'com', 'nuvens', 'e', 'chuvas', 'rápidas', 'durante', 'o', 'dia', 'e', 'à', 'noite.']] are in the [index]\""
     ]
    }
   ],
   "source": [
    "top3 = top3(\"dilma\")\n",
    "print(top3)\n",
    "expandQuery(\"dilma\", top3)"
   ]
  },
  {
   "cell_type": "code",
   "execution_count": null,
   "metadata": {
    "collapsed": true
   },
   "outputs": [],
   "source": []
  }
 ],
 "metadata": {
  "anaconda-cloud": {},
  "kernelspec": {
   "display_name": "Python 3",
   "language": "python",
   "name": "python3"
  },
  "language_info": {
   "codemirror_mode": {
    "name": "ipython",
    "version": 3
   },
   "file_extension": ".py",
   "mimetype": "text/x-python",
   "name": "python",
   "nbconvert_exporter": "python",
   "pygments_lexer": "ipython3",
   "version": "3.6.2"
  }
 },
 "nbformat": 4,
 "nbformat_minor": 1
}
