{
 "cells": [
  {
   "cell_type": "markdown",
   "metadata": {},
   "source": [
    "## Matrix and Vocabulary Construction"
   ]
  },
  {
   "cell_type": "code",
   "execution_count": 1,
   "metadata": {},
   "outputs": [],
   "source": [
    "import pandas as pd\n",
    "\n",
    "import numpy as np\n",
    "\n",
    "from scipy import sparse\n",
    "\n",
    "import nltk\n",
    "from nltk import bigrams\n",
    "from nltk.corpus import stopwords\n",
    "from nltk.tokenize import RegexpTokenizer"
   ]
  },
  {
   "cell_type": "code",
   "execution_count": 2,
   "metadata": {},
   "outputs": [],
   "source": [
    "news = pd.read_csv(\"./estadao_noticias_eleicao.csv\", encoding=\"utf-8\")"
   ]
  },
  {
   "cell_type": "code",
   "execution_count": 3,
   "metadata": {},
   "outputs": [
    {
     "name": "stderr",
     "output_type": "stream",
     "text": [
      "/usr/local/lib/python2.7/dist-packages/pandas/core/computation/check.py:17: UserWarning: The installed version of numexpr 2.4.3 is not supported in pandas and will be not be used\n",
      "The minimum supported version is 2.4.6\n",
      "\n",
      "  ver=ver, min_ver=_MIN_NUMEXPR_VERSION), UserWarning)\n"
     ]
    }
   ],
   "source": [
    "content = news.titulo + \" \" + news.subTitulo + \" \" + news.conteudo\n",
    "content = content.fillna(\"\")"
   ]
  },
  {
   "cell_type": "code",
   "execution_count": 4,
   "metadata": {},
   "outputs": [],
   "source": [
    "def co_occurrence_matrix(corpus):\n",
    "    vocab = set(corpus)\n",
    "    vocab = list(vocab)\n",
    "    n = len(vocab)\n",
    "   \n",
    "    vocab_to_index = {word:i for i, word in enumerate(vocab)}\n",
    "    \n",
    "    bi_grams = list(bigrams(corpus))\n",
    "\n",
    "    bigram_freq = nltk.FreqDist(bi_grams).most_common(len(bi_grams))\n",
    "\n",
    "    I=list()\n",
    "    J=list()\n",
    "    V=list()\n",
    "    \n",
    "    for bigram in bigram_freq:\n",
    "        current = bigram[0][1]\n",
    "        previous = bigram[0][0]\n",
    "        count = bigram[1]\n",
    "\n",
    "        I.append(vocab_to_index[previous])\n",
    "        J.append(vocab_to_index[current])\n",
    "        V.append(count)\n",
    "        \n",
    "    co_occurrence_matrix = sparse.coo_matrix((V,(I,J)), shape=(n,n))\n",
    "\n",
    "    return co_occurrence_matrix, vocab_to_index"
   ]
  },
  {
   "cell_type": "markdown",
   "metadata": {},
   "source": [
    "#### Removing punctuation"
   ]
  },
  {
   "cell_type": "code",
   "execution_count": 5,
   "metadata": {},
   "outputs": [],
   "source": [
    "tokenizer = RegexpTokenizer(r'\\w+')\n",
    "tokens_lists = content.apply(lambda text: tokenizer.tokenize(text.lower()))"
   ]
  },
  {
   "cell_type": "markdown",
   "metadata": {},
   "source": [
    "#### Removing stopwords"
   ]
  },
  {
   "cell_type": "code",
   "execution_count": 6,
   "metadata": {},
   "outputs": [],
   "source": [
    "stopword_ = stopwords.words('portuguese')\n",
    "filtered_tokens = tokens_lists.apply(lambda tokens: [token for token in tokens if token not in stopword_])"
   ]
  },
  {
   "cell_type": "markdown",
   "metadata": {},
   "source": [
    "#### Transforming list of lists into one list"
   ]
  },
  {
   "cell_type": "code",
   "execution_count": 7,
   "metadata": {},
   "outputs": [],
   "source": [
    "tokens = [token for tokens_list in filtered_tokens for token in tokens_list]"
   ]
  },
  {
   "cell_type": "code",
   "execution_count": 8,
   "metadata": {},
   "outputs": [],
   "source": [
    "matrix, vocab = co_occurrence_matrix(tokens)"
   ]
  },
  {
   "cell_type": "markdown",
   "metadata": {},
   "source": [
    "## Consult Bigram Frequency"
   ]
  },
  {
   "cell_type": "code",
   "execution_count": 9,
   "metadata": {},
   "outputs": [],
   "source": [
    "consultable_matrix = matrix.tocsr()"
   ]
  },
  {
   "cell_type": "code",
   "execution_count": 10,
   "metadata": {},
   "outputs": [],
   "source": [
    "def consult_frequency(w1, w2):\n",
    "    return(consultable_matrix[vocab[w1],vocab[w2]])"
   ]
  },
  {
   "cell_type": "markdown",
   "metadata": {},
   "source": [
    "### Example"
   ]
  },
  {
   "cell_type": "code",
   "execution_count": 11,
   "metadata": {},
   "outputs": [
    {
     "data": {
      "text/plain": [
       "3"
      ]
     },
     "execution_count": 11,
     "metadata": {},
     "output_type": "execute_result"
    }
   ],
   "source": [
    "w1 = 'poucos'\n",
    "w2 = 'recursos'\n",
    "consult_frequency(w1, w2)"
   ]
  },
  {
   "cell_type": "markdown",
   "metadata": {},
   "source": [
    "## Top-3 em ordem decrescente"
   ]
  },
  {
   "cell_type": "code",
   "execution_count": 14,
   "metadata": {},
   "outputs": [],
   "source": [
    "def top3(w1):\n",
    "    top3 = {}\n",
    "    for w in consultable_matrix[vocab[w1]].indices:\n",
    "        if(len(top3) < 3):\n",
    "            top3[w] = consultable_matrix[vocab[w1], w]\n",
    "        else:\n",
    "            if(consultable_matrix[vocab[w1], w] > consultable_matrix[vocab[w1], min(top3, key=top3.get)]):\n",
    "                del top3[min(top3, key=top3.get)]\n",
    "                top3[w] = consultable_matrix[vocab[w1], w]            \n",
    "    words = [list(vocab.keys())[list(vocab.values()).index(list(top3.keys())[0])], list(vocab.keys())[list(vocab.values()).index(list(top3.keys())[1])], list(vocab.keys())[list(vocab.values()).index(list(top3.keys())[2])]]\n",
    "    print(top3);\n",
    "    return words\n",
    "                "
   ]
  },
  {
   "cell_type": "code",
   "execution_count": 15,
   "metadata": {},
   "outputs": [
    {
     "name": "stdout",
     "output_type": "stream",
     "text": [
      "{22027: 374, 46220: 2422, 34367: 536}\n"
     ]
    },
    {
     "data": {
      "text/plain": [
       "[u'rep\\xfablica', u'dilma', u'luiz']"
      ]
     },
     "execution_count": 15,
     "metadata": {},
     "output_type": "execute_result"
    }
   ],
   "source": [
    "top3(\"presidente\")"
   ]
  },
  {
   "cell_type": "markdown",
   "metadata": {},
   "source": [
    "## Expandir consulta original"
   ]
  },
  {
   "cell_type": "code",
   "execution_count": 16,
   "metadata": {},
   "outputs": [],
   "source": [
    "def getIDs(search):\n",
    "    searchWords = search.split(\" \")\n",
    "    wordIDs = []\n",
    "    if(len(searchWords) >=2):\n",
    "        booleanOperator = searchWords[1]\n",
    "        wordIDs1 = []\n",
    "        wordIDs2 = []\n",
    "        wordIDs3 = []\n",
    "        wordIDs4 = []\n",
    "        for i in range(0, len(tokens_lists)):\n",
    "            for w in tokens_lists[i]:\n",
    "                if((searchWords[0].lower() == w.lower()) and (i not in wordIDs1)):\n",
    "                    wordIDs1.append(i)\n",
    "                if((searchWords[2].lower() == w.lower()) and (i not in wordIDs2)):\n",
    "                    wordIDs2.append(i)\n",
    "                if((searchWords[3].lower() == w.lower()) and (i not in wordIDs3)):\n",
    "                    wordIDs3.append(i)\n",
    "                if((searchWords[4].lower() == w.lower()) and (i not in wordIDs4)):\n",
    "                    wordIDs4.append(i)\n",
    "                if((i in wordIDs1) and (i in wordIDs2) and (i in wordIDs3) and (i in wordIDs4)):\n",
    "                    break\n",
    "        if(booleanOperator == \"AND\"):\n",
    "            wordIDs = set(wordIDs1).intersection(wordIDs2)\n",
    "            wordIDs = set(wordIDs).intersection(wordIDs3)\n",
    "            wordIDs = set(wordIDs).intersection(wordIDs4)\n",
    "        else:\n",
    "            wordIDs = set(wordIDs1).union(wordIDs2)\n",
    "            wordIDs = set(wordIDs).union(wordIDs3)\n",
    "            wordIDs = set(wordIDs).union(wordIDs4)\n",
    "    else:\n",
    "        for i in range(0, len(tokens_lists)):\n",
    "            for w in range(0, len(token_lists)):\n",
    "                if(searchWords[0].lower() == token_lists[w].lower()):\n",
    "                    wordIDs.append(news.values[i][2])  \n",
    "                    break\n",
    "    return wordIDs\n"
   ]
  },
  {
   "cell_type": "code",
   "execution_count": 17,
   "metadata": {},
   "outputs": [],
   "source": [
    "def expandQuery(word, top3):\n",
    "    query = word + \" OR \" + top3[0] + \" OR \" + top3[1] + \" OR \" + top3[2]\n",
    "    print(query)\n",
    "    return len(getIDs(query))"
   ]
  },
  {
   "cell_type": "markdown",
   "metadata": {},
   "source": [
    "## Consulta 1: dilma"
   ]
  },
  {
   "cell_type": "code",
   "execution_count": 18,
   "metadata": {},
   "outputs": [
    {
     "name": "stdout",
     "output_type": "stream",
     "text": [
      "{23939: 208, 28603: 201, 39692: 2903}\n",
      "dilma OR é OR disse OR rousseff\n"
     ]
    },
    {
     "data": {
      "text/plain": [
       "4631"
      ]
     },
     "execution_count": 18,
     "metadata": {},
     "output_type": "execute_result"
    }
   ],
   "source": [
    "expandQuery(\"dilma\", top3(\"dilma\"))"
   ]
  },
  {
   "cell_type": "markdown",
   "metadata": {},
   "source": [
    "## Consulta 2: presidente"
   ]
  },
  {
   "cell_type": "code",
   "execution_count": 19,
   "metadata": {},
   "outputs": [
    {
     "name": "stdout",
     "output_type": "stream",
     "text": [
      "{22027: 374, 46220: 2422, 34367: 536}\n",
      "presidente OR república OR dilma OR luiz\n"
     ]
    },
    {
     "data": {
      "text/plain": [
       "3903"
      ]
     },
     "execution_count": 19,
     "metadata": {},
     "output_type": "execute_result"
    }
   ],
   "source": [
    "expandQuery(\"presidente\", top3(\"presidente\"))"
   ]
  },
  {
   "cell_type": "markdown",
   "metadata": {},
   "source": [
    "## Consulta 3: votos"
   ]
  },
  {
   "cell_type": "code",
   "execution_count": 20,
   "metadata": {},
   "outputs": [
    {
     "name": "stdout",
     "output_type": "stream",
     "text": [
      "{5936: 184, 27347: 36, 16391: 33}\n",
      "votos OR válidos OR contra OR candidato\n"
     ]
    },
    {
     "data": {
      "text/plain": [
       "2207"
      ]
     },
     "execution_count": 20,
     "metadata": {},
     "output_type": "execute_result"
    }
   ],
   "source": [
    "expandQuery(\"votos\", top3(\"votos\"))"
   ]
  },
  {
   "cell_type": "markdown",
   "metadata": {},
   "source": [
    "#### Quais os termos retornados para a expansão de cada consulta?\n",
    "Para consulta \"dilma\" foram retornados: \"rousseff\", \"disse\" e \"é\".\n",
    "Para consulta \"presidente\" foram retornados: \"república\", \"dilma\" e \"luiz\".\n",
    "Para consulta \"votos\" foram retornados: \"válidos\", \"contra\" e \"candidato\"."
   ]
  },
  {
   "cell_type": "markdown",
   "metadata": {},
   "source": [
    "#### Você acha que esses termos são de fato relacionados com a consulta original? Justifique.\n",
    "Sim, pois podemos ver claramente que temos uma ligação entre as consultas e seus termos retornados. Por exemplo, na consulta \"presidente\" foram retornados os dois ultimos presidentes do Brasil (Dilma e Luiz Inácio)."
   ]
  },
  {
   "cell_type": "markdown",
   "metadata": {},
   "source": [
    "#### Compare os documentos retornados para a consulta original com a consulta expandida. Quais resultados você acha que melhor capturam a necessidade de informação do usuário? Por que?\n",
    "Creio que seja a consulta original, pois recupera um número menor e mais seletivo\n"
   ]
  },
  {
   "cell_type": "markdown",
   "metadata": {},
   "source": [
    "#### A expansão de consultas é mais adequada para melhorar o recall ou o precision? Por que?\n",
    "Mais adequada para melhorar o recall, pois retorna da consulta o mais relevante"
   ]
  }
 ],
 "metadata": {
  "anaconda-cloud": {},
  "kernelspec": {
   "display_name": "Python 2",
   "language": "python",
   "name": "python2"
  },
  "language_info": {
   "codemirror_mode": {
    "name": "ipython",
    "version": 2
   },
   "file_extension": ".py",
   "mimetype": "text/x-python",
   "name": "python",
   "nbconvert_exporter": "python",
   "pygments_lexer": "ipython2",
   "version": "2.7.12"
  }
 },
 "nbformat": 4,
 "nbformat_minor": 1
}
