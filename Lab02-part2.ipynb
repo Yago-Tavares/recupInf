{
 "cells": [
  {
   "cell_type": "code",
   "execution_count": 9,
   "metadata": {},
   "outputs": [],
   "source": [
    "import pandas as pd, numpy as np, csv\n",
    "filename = 'soc-sign-bitcoinotc.csv'\n",
    "file = open(filename, \"r\")\n",
    "reader = csv.reader(file)\n",
    "\n",
    "data = {}\n",
    "source = []\n",
    "target = []\n",
    "count = 0\n",
    "for row in reader:\n",
    "    if((int(row[0]) in data) and (int(row[2])>=8)):\n",
    "        data[int(row[0])].append(int(row[1]))\n",
    "        source.append(int(row[0]))\n",
    "        target.append(int(row[1]))\n",
    "    elif(int(row[2]) >= 8):\n",
    "        data[int(row[0])] = [int(row[1])]\n",
    "        source.append(int(row[0]))\n",
    "        target.append(int(row[1]))\n",
    "dataDictionary = {'source': source, 'target': target}\n",
    "dataFrame = pd.DataFrame(data=dataDictionary)\n",
    "dataFrame.to_csv('connections.csv', index = True)"
   ]
  },
  {
   "cell_type": "markdown",
   "metadata": {},
   "source": [
    "## Create connection matrix (Matrix A)"
   ]
  },
  {
   "cell_type": "code",
   "execution_count": 18,
   "metadata": {},
   "outputs": [],
   "source": [
    "#seria 6005 ou 1150 o numero de linhas e colunas? Se for 1150 ficaria todos os itens com 1/sizeColuna? (que seria 1/1150)\n",
    "#Se for 6005 teria que pegar apenas as linhas do pageRank que tiverem nota maior que 8, que são 1150\n",
    "matrixA = np.zeros((6005,6005))\n",
    "for i in data:\n",
    "    size = len(list(map(int, data[i])))\n",
    "    for j in data[i]:\n",
    "        matrixA.itemset((int(j)-1, int(i)-1), 1.0/size)"
   ]
  },
  {
   "cell_type": "markdown",
   "metadata": {},
   "source": [
    "## Create matrix B"
   ]
  },
  {
   "cell_type": "code",
   "execution_count": 12,
   "metadata": {},
   "outputs": [],
   "source": [
    "matrixB = np.empty((6005,6005))\n",
    "result = 0.15/6005\n",
    "matrixB.fill(result)"
   ]
  },
  {
   "cell_type": "markdown",
   "metadata": {},
   "source": [
    "## Create matrix V"
   ]
  },
  {
   "cell_type": "code",
   "execution_count": 13,
   "metadata": {},
   "outputs": [],
   "source": [
    "matrixV = 1.0/6005 * np.ones((6005, 1))"
   ]
  },
  {
   "cell_type": "markdown",
   "metadata": {},
   "source": [
    "## Calculate M"
   ]
  },
  {
   "cell_type": "code",
   "execution_count": 14,
   "metadata": {},
   "outputs": [],
   "source": [
    "m = (0.85 * matrixA) + matrixB"
   ]
  },
  {
   "cell_type": "markdown",
   "metadata": {},
   "source": [
    "## Calculate pageRank"
   ]
  },
  {
   "cell_type": "code",
   "execution_count": 15,
   "metadata": {},
   "outputs": [],
   "source": [
    "count = 0\n",
    "def pageRank(matrixV):\n",
    "    global count\n",
    "    if((sum(abs((m.dot(matrixV))-matrixV))) > 0.001):\n",
    "        count +=1\n",
    "        print(count)\n",
    "        print(m.dot(matrixV))\n",
    "        print(sum(abs((m.dot(matrixV))-matrixV)))\n",
    "        return pageRank(m.dot(matrixV))\n",
    "    else:\n",
    "        count+=1\n",
    "        print(count)\n",
    "        print(m.dot(matrixV))\n",
    "        print(sum(abs((m.dot(matrixV))-matrixV)))\n",
    "        return m.dot(matrixV)"
   ]
  },
  {
   "cell_type": "code",
   "execution_count": 16,
   "metadata": {},
   "outputs": [
    {
     "name": "stdout",
     "output_type": "stream",
     "text": [
      "1\n",
      "[[3.11163977e-03]\n",
      " [1.91191684e-04]\n",
      " [4.07068184e-05]\n",
      " ...\n",
      " [2.49791840e-05]\n",
      " [2.49791840e-05]\n",
      " [2.49791840e-05]]\n",
      "[0.82222989]\n",
      "2\n",
      "[[1.88120168e-03]\n",
      " [4.36051202e-04]\n",
      " [2.42152660e-05]\n",
      " ...\n",
      " [6.15827360e-06]\n",
      " [6.15827360e-06]\n",
      " [6.15827360e-06]]\n",
      "[0.16293495]\n",
      "3\n",
      "[[2.00737869e-03]\n",
      " [3.02718968e-04]\n",
      " [4.38317188e-05]\n",
      " ...\n",
      " [2.64910530e-06]\n",
      " [2.64910530e-06]\n",
      " [2.64910530e-06]]\n",
      "[0.0476409]\n",
      "4\n",
      "[[1.10910688e-03]\n",
      " [3.05990233e-04]\n",
      " [3.02541422e-05]\n",
      " ...\n",
      " [1.66401742e-06]\n",
      " [1.66401742e-06]\n",
      " [1.66401742e-06]]\n",
      "[0.0218485]\n",
      "5\n",
      "[[1.02198096e-03]\n",
      " [1.93882544e-04]\n",
      " [3.01058539e-05]\n",
      " ...\n",
      " [1.20677637e-06]\n",
      " [1.20677637e-06]\n",
      " [1.20677637e-06]]\n",
      "[0.01363054]\n",
      "6\n",
      "[[6.12879966e-04]\n",
      " [1.69820770e-04]\n",
      " [1.92296260e-05]\n",
      " ...\n",
      " [9.18496830e-07]\n",
      " [9.18496830e-07]\n",
      " [9.18496830e-07]]\n",
      "[0.00944731]\n",
      "7\n",
      "[[5.46555146e-04]\n",
      " [1.11151215e-04]\n",
      " [1.67519715e-05]\n",
      " ...\n",
      " [7.13343289e-07]\n",
      " [7.13343289e-07]\n",
      " [7.13343289e-07]]\n",
      "[0.00690752]\n",
      "8\n",
      "[[3.43947806e-04]\n",
      " [9.35018731e-05]\n",
      " [1.10587855e-05]\n",
      " ...\n",
      " [5.61170733e-07]\n",
      " [5.61170733e-07]\n",
      " [5.61170733e-07]]\n",
      "[0.00516648]\n",
      "9\n",
      "[[2.95897222e-04]\n",
      " [6.33374797e-05]\n",
      " [9.27663789e-06]\n",
      " ...\n",
      " [4.45905428e-07]\n",
      " [4.45905428e-07]\n",
      " [4.45905428e-07]]\n",
      "[0.00394382]\n",
      "10\n",
      "[[1.94495802e-04]\n",
      " [5.18099285e-05]\n",
      " [6.33893466e-06]\n",
      " ...\n",
      " [3.57061581e-07]\n",
      " [3.57061581e-07]\n",
      " [3.57061581e-07]]\n",
      "[0.00303973]\n",
      "11\n",
      "[[1.62458480e-04]\n",
      " [3.61693793e-05]\n",
      " [5.18125874e-06]\n",
      " ...\n",
      " [2.88098822e-07]\n",
      " [2.88098822e-07]\n",
      " [2.88098822e-07]]\n",
      "[0.00237652]\n",
      "12\n",
      "[[1.11125140e-04]\n",
      " [2.89837938e-05]\n",
      " [3.64981922e-06]\n",
      " ...\n",
      " [2.33822282e-07]\n",
      " [2.33822282e-07]\n",
      " [2.33822282e-07]]\n",
      "[0.00187264]\n",
      "13\n",
      "[[9.08893765e-05]\n",
      " [2.07924424e-05]\n",
      " [2.92829467e-06]\n",
      " ...\n",
      " [1.90936371e-07]\n",
      " [1.90936371e-07]\n",
      " [1.90936371e-07]]\n",
      "[0.00149367]\n",
      "14\n",
      "[[6.43372969e-05]\n",
      " [1.64366017e-05]\n",
      " [2.12036131e-06]\n",
      " ...\n",
      " [1.56630639e-07]\n",
      " [1.56630639e-07]\n",
      " [1.56630639e-07]]\n",
      "[0.00119535]\n",
      "15\n",
      "[[5.19486445e-05]\n",
      " [1.20814861e-05]\n",
      " [1.68146876e-06]\n",
      " ...\n",
      " [1.29123048e-07]\n",
      " [1.29123048e-07]\n",
      " [1.29123048e-07]]\n",
      "[0.00096794]\n",
      "[[5.19486445e-05]\n",
      " [1.20814861e-05]\n",
      " [1.68146876e-06]\n",
      " ...\n",
      " [1.29123048e-07]\n",
      " [1.29123048e-07]\n",
      " [1.29123048e-07]]\n",
      "6005\n",
      "1150\n",
      "6005\n"
     ]
    },
    {
     "ename": "ValueError",
     "evalue": "arrays must all be same length",
     "output_type": "error",
     "traceback": [
      "\u001b[0;31m---------------------------------------------------------------------------\u001b[0m",
      "\u001b[0;31mValueError\u001b[0m                                Traceback (most recent call last)",
      "\u001b[0;32m<ipython-input-16-b3d68621921f>\u001b[0m in \u001b[0;36m<module>\u001b[0;34m()\u001b[0m\n\u001b[1;32m      8\u001b[0m \u001b[0;32mprint\u001b[0m\u001b[0;34m(\u001b[0m\u001b[0mlen\u001b[0m\u001b[0;34m(\u001b[0m\u001b[0mpr\u001b[0m\u001b[0;34m)\u001b[0m\u001b[0;34m)\u001b[0m\u001b[0;34m\u001b[0m\u001b[0m\n\u001b[1;32m      9\u001b[0m \u001b[0mdataDict\u001b[0m \u001b[0;34m=\u001b[0m \u001b[0;34m{\u001b[0m\u001b[0;34m'source'\u001b[0m\u001b[0;34m:\u001b[0m \u001b[0msource\u001b[0m\u001b[0;34m,\u001b[0m \u001b[0;34m'pageRank'\u001b[0m\u001b[0;34m:\u001b[0m \u001b[0mpr\u001b[0m\u001b[0;34m}\u001b[0m\u001b[0;34m\u001b[0m\u001b[0m\n\u001b[0;32m---> 10\u001b[0;31m \u001b[0mdf\u001b[0m \u001b[0;34m=\u001b[0m \u001b[0mpd\u001b[0m\u001b[0;34m.\u001b[0m\u001b[0mDataFrame\u001b[0m\u001b[0;34m(\u001b[0m\u001b[0mdata\u001b[0m\u001b[0;34m=\u001b[0m\u001b[0mdataDict\u001b[0m\u001b[0;34m)\u001b[0m\u001b[0;34m\u001b[0m\u001b[0m\n\u001b[0m\u001b[1;32m     11\u001b[0m \u001b[0mdf\u001b[0m\u001b[0;34m.\u001b[0m\u001b[0mto_csv\u001b[0m\u001b[0;34m(\u001b[0m\u001b[0;34m'pageRank.csv'\u001b[0m\u001b[0;34m,\u001b[0m \u001b[0mindex\u001b[0m \u001b[0;34m=\u001b[0m \u001b[0mTrue\u001b[0m\u001b[0;34m)\u001b[0m\u001b[0;34m\u001b[0m\u001b[0m\n\u001b[1;32m     12\u001b[0m \u001b[0;31m#print indice de maior pagerank\u001b[0m\u001b[0;34m\u001b[0m\u001b[0;34m\u001b[0m\u001b[0m\n",
      "\u001b[0;32m/usr/local/lib/python2.7/dist-packages/pandas/core/frame.pyc\u001b[0m in \u001b[0;36m__init__\u001b[0;34m(self, data, index, columns, dtype, copy)\u001b[0m\n\u001b[1;32m    328\u001b[0m                                  dtype=dtype, copy=copy)\n\u001b[1;32m    329\u001b[0m         \u001b[0;32melif\u001b[0m \u001b[0misinstance\u001b[0m\u001b[0;34m(\u001b[0m\u001b[0mdata\u001b[0m\u001b[0;34m,\u001b[0m \u001b[0mdict\u001b[0m\u001b[0;34m)\u001b[0m\u001b[0;34m:\u001b[0m\u001b[0;34m\u001b[0m\u001b[0m\n\u001b[0;32m--> 330\u001b[0;31m             \u001b[0mmgr\u001b[0m \u001b[0;34m=\u001b[0m \u001b[0mself\u001b[0m\u001b[0;34m.\u001b[0m\u001b[0m_init_dict\u001b[0m\u001b[0;34m(\u001b[0m\u001b[0mdata\u001b[0m\u001b[0;34m,\u001b[0m \u001b[0mindex\u001b[0m\u001b[0;34m,\u001b[0m \u001b[0mcolumns\u001b[0m\u001b[0;34m,\u001b[0m \u001b[0mdtype\u001b[0m\u001b[0;34m=\u001b[0m\u001b[0mdtype\u001b[0m\u001b[0;34m)\u001b[0m\u001b[0;34m\u001b[0m\u001b[0m\n\u001b[0m\u001b[1;32m    331\u001b[0m         \u001b[0;32melif\u001b[0m \u001b[0misinstance\u001b[0m\u001b[0;34m(\u001b[0m\u001b[0mdata\u001b[0m\u001b[0;34m,\u001b[0m \u001b[0mma\u001b[0m\u001b[0;34m.\u001b[0m\u001b[0mMaskedArray\u001b[0m\u001b[0;34m)\u001b[0m\u001b[0;34m:\u001b[0m\u001b[0;34m\u001b[0m\u001b[0m\n\u001b[1;32m    332\u001b[0m             \u001b[0;32mimport\u001b[0m \u001b[0mnumpy\u001b[0m\u001b[0;34m.\u001b[0m\u001b[0mma\u001b[0m\u001b[0;34m.\u001b[0m\u001b[0mmrecords\u001b[0m \u001b[0;32mas\u001b[0m \u001b[0mmrecords\u001b[0m\u001b[0;34m\u001b[0m\u001b[0m\n",
      "\u001b[0;32m/usr/local/lib/python2.7/dist-packages/pandas/core/frame.pyc\u001b[0m in \u001b[0;36m_init_dict\u001b[0;34m(self, data, index, columns, dtype)\u001b[0m\n\u001b[1;32m    459\u001b[0m             \u001b[0marrays\u001b[0m \u001b[0;34m=\u001b[0m \u001b[0;34m[\u001b[0m\u001b[0mdata\u001b[0m\u001b[0;34m[\u001b[0m\u001b[0mk\u001b[0m\u001b[0;34m]\u001b[0m \u001b[0;32mfor\u001b[0m \u001b[0mk\u001b[0m \u001b[0;32min\u001b[0m \u001b[0mkeys\u001b[0m\u001b[0;34m]\u001b[0m\u001b[0;34m\u001b[0m\u001b[0m\n\u001b[1;32m    460\u001b[0m \u001b[0;34m\u001b[0m\u001b[0m\n\u001b[0;32m--> 461\u001b[0;31m         \u001b[0;32mreturn\u001b[0m \u001b[0m_arrays_to_mgr\u001b[0m\u001b[0;34m(\u001b[0m\u001b[0marrays\u001b[0m\u001b[0;34m,\u001b[0m \u001b[0mdata_names\u001b[0m\u001b[0;34m,\u001b[0m \u001b[0mindex\u001b[0m\u001b[0;34m,\u001b[0m \u001b[0mcolumns\u001b[0m\u001b[0;34m,\u001b[0m \u001b[0mdtype\u001b[0m\u001b[0;34m=\u001b[0m\u001b[0mdtype\u001b[0m\u001b[0;34m)\u001b[0m\u001b[0;34m\u001b[0m\u001b[0m\n\u001b[0m\u001b[1;32m    462\u001b[0m \u001b[0;34m\u001b[0m\u001b[0m\n\u001b[1;32m    463\u001b[0m     \u001b[0;32mdef\u001b[0m \u001b[0m_init_ndarray\u001b[0m\u001b[0;34m(\u001b[0m\u001b[0mself\u001b[0m\u001b[0;34m,\u001b[0m \u001b[0mvalues\u001b[0m\u001b[0;34m,\u001b[0m \u001b[0mindex\u001b[0m\u001b[0;34m,\u001b[0m \u001b[0mcolumns\u001b[0m\u001b[0;34m,\u001b[0m \u001b[0mdtype\u001b[0m\u001b[0;34m=\u001b[0m\u001b[0mNone\u001b[0m\u001b[0;34m,\u001b[0m \u001b[0mcopy\u001b[0m\u001b[0;34m=\u001b[0m\u001b[0mFalse\u001b[0m\u001b[0;34m)\u001b[0m\u001b[0;34m:\u001b[0m\u001b[0;34m\u001b[0m\u001b[0m\n",
      "\u001b[0;32m/usr/local/lib/python2.7/dist-packages/pandas/core/frame.pyc\u001b[0m in \u001b[0;36m_arrays_to_mgr\u001b[0;34m(arrays, arr_names, index, columns, dtype)\u001b[0m\n\u001b[1;32m   6161\u001b[0m     \u001b[0;31m# figure out the index, if necessary\u001b[0m\u001b[0;34m\u001b[0m\u001b[0;34m\u001b[0m\u001b[0m\n\u001b[1;32m   6162\u001b[0m     \u001b[0;32mif\u001b[0m \u001b[0mindex\u001b[0m \u001b[0;32mis\u001b[0m \u001b[0mNone\u001b[0m\u001b[0;34m:\u001b[0m\u001b[0;34m\u001b[0m\u001b[0m\n\u001b[0;32m-> 6163\u001b[0;31m         \u001b[0mindex\u001b[0m \u001b[0;34m=\u001b[0m \u001b[0mextract_index\u001b[0m\u001b[0;34m(\u001b[0m\u001b[0marrays\u001b[0m\u001b[0;34m)\u001b[0m\u001b[0;34m\u001b[0m\u001b[0m\n\u001b[0m\u001b[1;32m   6164\u001b[0m     \u001b[0;32melse\u001b[0m\u001b[0;34m:\u001b[0m\u001b[0;34m\u001b[0m\u001b[0m\n\u001b[1;32m   6165\u001b[0m         \u001b[0mindex\u001b[0m \u001b[0;34m=\u001b[0m \u001b[0m_ensure_index\u001b[0m\u001b[0;34m(\u001b[0m\u001b[0mindex\u001b[0m\u001b[0;34m)\u001b[0m\u001b[0;34m\u001b[0m\u001b[0m\n",
      "\u001b[0;32m/usr/local/lib/python2.7/dist-packages/pandas/core/frame.pyc\u001b[0m in \u001b[0;36mextract_index\u001b[0;34m(data)\u001b[0m\n\u001b[1;32m   6209\u001b[0m             \u001b[0mlengths\u001b[0m \u001b[0;34m=\u001b[0m \u001b[0mlist\u001b[0m\u001b[0;34m(\u001b[0m\u001b[0mset\u001b[0m\u001b[0;34m(\u001b[0m\u001b[0mraw_lengths\u001b[0m\u001b[0;34m)\u001b[0m\u001b[0;34m)\u001b[0m\u001b[0;34m\u001b[0m\u001b[0m\n\u001b[1;32m   6210\u001b[0m             \u001b[0;32mif\u001b[0m \u001b[0mlen\u001b[0m\u001b[0;34m(\u001b[0m\u001b[0mlengths\u001b[0m\u001b[0;34m)\u001b[0m \u001b[0;34m>\u001b[0m \u001b[0;36m1\u001b[0m\u001b[0;34m:\u001b[0m\u001b[0;34m\u001b[0m\u001b[0m\n\u001b[0;32m-> 6211\u001b[0;31m                 \u001b[0;32mraise\u001b[0m \u001b[0mValueError\u001b[0m\u001b[0;34m(\u001b[0m\u001b[0;34m'arrays must all be same length'\u001b[0m\u001b[0;34m)\u001b[0m\u001b[0;34m\u001b[0m\u001b[0m\n\u001b[0m\u001b[1;32m   6212\u001b[0m \u001b[0;34m\u001b[0m\u001b[0m\n\u001b[1;32m   6213\u001b[0m             \u001b[0;32mif\u001b[0m \u001b[0mhave_dicts\u001b[0m\u001b[0;34m:\u001b[0m\u001b[0;34m\u001b[0m\u001b[0m\n",
      "\u001b[0;31mValueError\u001b[0m: arrays must all be same length"
     ]
    }
   ],
   "source": [
    "result = pageRank(matrixV)\n",
    "print(result)\n",
    "print(len(result))\n",
    "pr = []\n",
    "for i in result:\n",
    "    pr.append(i[0])\n",
    "print(len(source))\n",
    "print(len(pr))\n",
    "dataDict = {'source': source, 'pageRank': pr}\n",
    "df = pd.DataFrame(data=dataDict)\n",
    "df.to_csv('pageRank.csv', index = True)\n",
    "#print indice de maior pagerank\n",
    "print(list(result).index(sorted(result, reverse=True)[0]))"
   ]
  },
  {
   "cell_type": "code",
   "execution_count": null,
   "metadata": {},
   "outputs": [],
   "source": []
  },
  {
   "cell_type": "code",
   "execution_count": null,
   "metadata": {},
   "outputs": [],
   "source": []
  }
 ],
 "metadata": {
  "kernelspec": {
   "display_name": "Python 2",
   "language": "python",
   "name": "python2"
  },
  "language_info": {
   "codemirror_mode": {
    "name": "ipython",
    "version": 2
   },
   "file_extension": ".py",
   "mimetype": "text/x-python",
   "name": "python",
   "nbconvert_exporter": "python",
   "pygments_lexer": "ipython2",
   "version": "2.7.12"
  }
 },
 "nbformat": 4,
 "nbformat_minor": 2
}
