{
 "cells": [
  {
   "cell_type": "code",
   "execution_count": 6,
   "metadata": {},
   "outputs": [],
   "source": [
    "import pandas as pd, numpy as np, csv\n",
    "filename = 'soc-sign-bitcoinotc.csv'\n",
    "file = open(filename, \"r\")\n",
    "reader = csv.reader(file)\n",
    "\n",
    "data = {}\n",
    "for row in reader:\n",
    "    if(row[0] in data):\n",
    "        data[row[0]].append(row[1])\n",
    "    else:\n",
    "        data[row[0]] = [row[1]]"
   ]
  },
  {
   "cell_type": "markdown",
   "metadata": {},
   "source": [
    "## Create connection matrix (Matrix A)"
   ]
  },
  {
   "cell_type": "code",
   "execution_count": 7,
   "metadata": {},
   "outputs": [],
   "source": [
    "matrixA = np.zeros((6005,6005))\n",
    "for i in data:\n",
    "    size = len(list(map(int, data[i])))\n",
    "    for j in data[i]:\n",
    "        matrixA.itemset((int(j)-1, int(i)-1), 1.0/size)"
   ]
  },
  {
   "cell_type": "markdown",
   "metadata": {},
   "source": [
    "## Create matrix B"
   ]
  },
  {
   "cell_type": "code",
   "execution_count": 8,
   "metadata": {},
   "outputs": [
    {
     "name": "stdout",
     "output_type": "stream",
     "text": [
      "[[2.4979184e-05 2.4979184e-05 2.4979184e-05 ... 2.4979184e-05\n",
      "  2.4979184e-05 2.4979184e-05]\n",
      " [2.4979184e-05 2.4979184e-05 2.4979184e-05 ... 2.4979184e-05\n",
      "  2.4979184e-05 2.4979184e-05]\n",
      " [2.4979184e-05 2.4979184e-05 2.4979184e-05 ... 2.4979184e-05\n",
      "  2.4979184e-05 2.4979184e-05]\n",
      " ...\n",
      " [2.4979184e-05 2.4979184e-05 2.4979184e-05 ... 2.4979184e-05\n",
      "  2.4979184e-05 2.4979184e-05]\n",
      " [2.4979184e-05 2.4979184e-05 2.4979184e-05 ... 2.4979184e-05\n",
      "  2.4979184e-05 2.4979184e-05]\n",
      " [2.4979184e-05 2.4979184e-05 2.4979184e-05 ... 2.4979184e-05\n",
      "  2.4979184e-05 2.4979184e-05]]\n"
     ]
    }
   ],
   "source": [
    "matrixB = np.empty((6005,6005))\n",
    "result = 0.15/6005\n",
    "matrixB.fill(result)\n",
    "print(matrixB)"
   ]
  },
  {
   "cell_type": "markdown",
   "metadata": {},
   "source": [
    "## Create matrix V"
   ]
  },
  {
   "cell_type": "code",
   "execution_count": 9,
   "metadata": {},
   "outputs": [],
   "source": [
    "matrixV = 1.0/6005 * np.ones((6005, 1))"
   ]
  },
  {
   "cell_type": "markdown",
   "metadata": {},
   "source": [
    "## Calculate M"
   ]
  },
  {
   "cell_type": "code",
   "execution_count": 10,
   "metadata": {},
   "outputs": [],
   "source": [
    "m = (0.85 * matrixA) + matrixB"
   ]
  },
  {
   "cell_type": "markdown",
   "metadata": {},
   "source": [
    "## Calculate pageRank"
   ]
  },
  {
   "cell_type": "code",
   "execution_count": 20,
   "metadata": {},
   "outputs": [],
   "source": [
    "count = 0\n",
    "def pageRank(matrixV):\n",
    "    global count\n",
    "    if((sum(abs((m*matrixV)-matrixV)))[0] > 0.001):\n",
    "        count +=1\n",
    "        print(count)\n",
    "        print(m*matrixV)\n",
    "        print(sum(abs((m*matrixV)-matrixV)))\n",
    "        return pageRank(m*matrixV)\n",
    "    else:\n",
    "        count+=1\n",
    "        print(count)\n",
    "        print(m*matrixV)\n",
    "        print(sum(abs((m*matrixV)-matrixV)))\n",
    "        return m*matrixV"
   ]
  },
  {
   "cell_type": "code",
   "execution_count": 22,
   "metadata": {},
   "outputs": [
    {
     "name": "stdout",
     "output_type": "stream",
     "text": [
      "3\n",
      "[[4.15973089e-09 3.14968661e-06 4.15973089e-09 ... 4.15973089e-09\n",
      "  4.15973089e-09 4.15973089e-09]\n",
      " [6.62525821e-07 4.15973089e-09 4.15973089e-09 ... 4.15973089e-09\n",
      "  4.15973089e-09 4.15973089e-09]\n",
      " [6.62525821e-07 3.14968661e-06 4.15973089e-09 ... 4.15973089e-09\n",
      "  4.15973089e-09 4.15973089e-09]\n",
      " ...\n",
      " [4.15973089e-09 4.15973089e-09 4.15973089e-09 ... 4.15973089e-09\n",
      "  4.15973089e-09 4.15973089e-09]\n",
      " [4.15973089e-09 4.15973089e-09 4.15973089e-09 ... 4.15973089e-09\n",
      "  4.15973089e-09 4.15973089e-09]\n",
      " [4.15973089e-09 4.15973089e-09 4.15973089e-09 ... 4.15973089e-09\n",
      "  4.15973089e-09 4.15973089e-09]]\n",
      "[0.99983347 0.99983347 0.99997502 ... 0.99997502 0.99997502 0.99997502]\n",
      "4\n",
      "[[1.03906683e-13 5.95727569e-08 1.03906683e-13 ... 1.03906683e-13\n",
      "  1.03906683e-13 1.03906683e-13]\n",
      " [2.63583748e-09 1.03906683e-13 1.03906683e-13 ... 1.03906683e-13\n",
      "  1.03906683e-13 1.03906683e-13]\n",
      " [2.63583748e-09 5.95727569e-08 1.03906683e-13 ... 1.03906683e-13\n",
      "  1.03906683e-13 1.03906683e-13]\n",
      " ...\n",
      " [1.03906683e-13 1.03906683e-13 1.03906683e-13 ... 1.03906683e-13\n",
      "  1.03906683e-13 1.03906683e-13]\n",
      " [1.03906683e-13 1.03906683e-13 1.03906683e-13 ... 1.03906683e-13\n",
      "  1.03906683e-13 1.03906683e-13]\n",
      " [1.03906683e-13 1.03906683e-13 1.03906683e-13 ... 1.03906683e-13\n",
      "  1.03906683e-13 1.03906683e-13]]\n",
      "[1.65960587e-04 1.63846500e-04 2.49785601e-05 ... 2.49785601e-05\n",
      " 2.49785601e-05 2.49785601e-05]\n"
     ]
    },
    {
     "ename": "ValueError",
     "evalue": "The truth value of an array with more than one element is ambiguous. Use a.any() or a.all()",
     "output_type": "error",
     "traceback": [
      "\u001b[0;31m---------------------------------------------------------------------------\u001b[0m",
      "\u001b[0;31mValueError\u001b[0m                                Traceback (most recent call last)",
      "\u001b[0;32m<ipython-input-22-a94952cb5ec4>\u001b[0m in \u001b[0;36m<module>\u001b[0;34m()\u001b[0m\n\u001b[1;32m      1\u001b[0m \u001b[0mresult\u001b[0m \u001b[0;34m=\u001b[0m \u001b[0mpageRank\u001b[0m\u001b[0;34m(\u001b[0m\u001b[0mmatrixV\u001b[0m\u001b[0;34m)\u001b[0m\u001b[0;34m\u001b[0m\u001b[0m\n\u001b[0;32m----> 2\u001b[0;31m \u001b[0;32mprint\u001b[0m\u001b[0;34m(\u001b[0m\u001b[0msorted\u001b[0m\u001b[0;34m(\u001b[0m\u001b[0mresult\u001b[0m\u001b[0;34m,\u001b[0m \u001b[0mreverse\u001b[0m\u001b[0;34m=\u001b[0m\u001b[0mTrue\u001b[0m\u001b[0;34m)\u001b[0m\u001b[0;34m)\u001b[0m\u001b[0;34m\u001b[0m\u001b[0m\n\u001b[0m",
      "\u001b[0;31mValueError\u001b[0m: The truth value of an array with more than one element is ambiguous. Use a.any() or a.all()"
     ]
    }
   ],
   "source": [
    "result = pageRank(matrixV)\n",
    "print(sorted(result, reverse=True))"
   ]
  },
  {
   "cell_type": "code",
   "execution_count": 17,
   "metadata": {},
   "outputs": [
    {
     "name": "stdout",
     "output_type": "stream",
     "text": [
      "[[-0.00016652 -0.00016338 -0.00016652 ... -0.00016652 -0.00016652\n",
      "  -0.00016652]\n",
      " [-0.00016587 -0.00016652 -0.00016652 ... -0.00016652 -0.00016652\n",
      "  -0.00016652]\n",
      " [-0.00016587 -0.00016338 -0.00016652 ... -0.00016652 -0.00016652\n",
      "  -0.00016652]\n",
      " ...\n",
      " [-0.00016652 -0.00016652 -0.00016652 ... -0.00016652 -0.00016652\n",
      "  -0.00016652]\n",
      " [-0.00016652 -0.00016652 -0.00016652 ... -0.00016652 -0.00016652\n",
      "  -0.00016652]\n",
      " [-0.00016652 -0.00016652 -0.00016652 ... -0.00016652 -0.00016652\n",
      "  -0.00016652]]\n",
      "[[0.00016652 0.00016338 0.00016652 ... 0.00016652 0.00016652 0.00016652]\n",
      " [0.00016587 0.00016652 0.00016652 ... 0.00016652 0.00016652 0.00016652]\n",
      " [0.00016587 0.00016338 0.00016652 ... 0.00016652 0.00016652 0.00016652]\n",
      " ...\n",
      " [0.00016652 0.00016652 0.00016652 ... 0.00016652 0.00016652 0.00016652]\n",
      " [0.00016652 0.00016652 0.00016652 ... 0.00016652 0.00016652 0.00016652]\n",
      " [0.00016652 0.00016652 0.00016652 ... 0.00016652 0.00016652 0.00016652]]\n",
      "[0.99983347 0.99983347 0.99997502 ... 0.99997502 0.99997502 0.99997502]\n"
     ]
    }
   ],
   "source": [
    "print((m*matrixV)-matrixV)\n",
    "print(abs((m*matrixV)-matrixV))\n",
    "print(sum(abs((m*matrixV)-matrixV)))"
   ]
  },
  {
   "cell_type": "code",
   "execution_count": null,
   "metadata": {},
   "outputs": [],
   "source": []
  }
 ],
 "metadata": {
  "kernelspec": {
   "display_name": "Python 2",
   "language": "python",
   "name": "python2"
  },
  "language_info": {
   "codemirror_mode": {
    "name": "ipython",
    "version": 2
   },
   "file_extension": ".py",
   "mimetype": "text/x-python",
   "name": "python",
   "nbconvert_exporter": "python",
   "pygments_lexer": "ipython2",
   "version": "2.7.12"
  }
 },
 "nbformat": 4,
 "nbformat_minor": 2
}
