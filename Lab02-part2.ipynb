{
 "cells": [
  {
   "cell_type": "code",
   "execution_count": 27,
   "metadata": {},
   "outputs": [],
   "source": [
    "import pandas as pd, numpy as np, csv\n",
    "filename = 'soc-sign-bitcoinotc.csv'\n",
    "file = open(filename, \"r\")\n",
    "reader = csv.reader(file)\n",
    "\n",
    "data = {}\n",
    "for row in reader:\n",
    "    if((int(row[0]) in data) and (int(row[2])>=8)):\n",
    "        data[int(row[0])].append(int(row[1]))\n",
    "    elif(int(row[2]) >= 8):\n",
    "        data[int(row[0])] = [int(row[1])]"
   ]
  },
  {
   "cell_type": "markdown",
   "metadata": {},
   "source": [
    "## Create connection matrix (Matrix A)"
   ]
  },
  {
   "cell_type": "code",
   "execution_count": 28,
   "metadata": {},
   "outputs": [
    {
     "name": "stdout",
     "output_type": "stream",
     "text": [
      "[[ 0.          0.11111111  0.         ...,  0.          0.          0.        ]\n",
      " [ 0.09090909  0.          0.         ...,  0.          0.          0.        ]\n",
      " [ 0.          0.11111111  0.         ...,  0.          0.          0.        ]\n",
      " ..., \n",
      " [ 0.          0.          0.         ...,  0.          0.          0.        ]\n",
      " [ 0.          0.          0.         ...,  0.          0.          0.        ]\n",
      " [ 0.          0.          0.         ...,  0.          0.          0.        ]]\n"
     ]
    }
   ],
   "source": [
    "matrixA = np.zeros((6005,6005))\n",
    "for i in data:\n",
    "    size = len(list(map(int, data[i])))\n",
    "    for j in data[i]:\n",
    "        matrixA.itemset((int(j)-1, int(i)-1), 1.0/size)\n",
    "print(matrixA)"
   ]
  },
  {
   "cell_type": "markdown",
   "metadata": {},
   "source": [
    "## Create matrix B"
   ]
  },
  {
   "cell_type": "code",
   "execution_count": 29,
   "metadata": {},
   "outputs": [
    {
     "name": "stdout",
     "output_type": "stream",
     "text": [
      "[[  2.49791840e-05   2.49791840e-05   2.49791840e-05 ...,   2.49791840e-05\n",
      "    2.49791840e-05   2.49791840e-05]\n",
      " [  2.49791840e-05   2.49791840e-05   2.49791840e-05 ...,   2.49791840e-05\n",
      "    2.49791840e-05   2.49791840e-05]\n",
      " [  2.49791840e-05   2.49791840e-05   2.49791840e-05 ...,   2.49791840e-05\n",
      "    2.49791840e-05   2.49791840e-05]\n",
      " ..., \n",
      " [  2.49791840e-05   2.49791840e-05   2.49791840e-05 ...,   2.49791840e-05\n",
      "    2.49791840e-05   2.49791840e-05]\n",
      " [  2.49791840e-05   2.49791840e-05   2.49791840e-05 ...,   2.49791840e-05\n",
      "    2.49791840e-05   2.49791840e-05]\n",
      " [  2.49791840e-05   2.49791840e-05   2.49791840e-05 ...,   2.49791840e-05\n",
      "    2.49791840e-05   2.49791840e-05]]\n"
     ]
    }
   ],
   "source": [
    "matrixB = np.empty((6005,6005))\n",
    "result = 0.15/6005\n",
    "matrixB.fill(result)\n",
    "print(matrixB)"
   ]
  },
  {
   "cell_type": "markdown",
   "metadata": {},
   "source": [
    "## Create matrix V"
   ]
  },
  {
   "cell_type": "code",
   "execution_count": 30,
   "metadata": {},
   "outputs": [
    {
     "name": "stdout",
     "output_type": "stream",
     "text": [
      "[[ 0.00016653]\n",
      " [ 0.00016653]\n",
      " [ 0.00016653]\n",
      " ..., \n",
      " [ 0.00016653]\n",
      " [ 0.00016653]\n",
      " [ 0.00016653]]\n"
     ]
    }
   ],
   "source": [
    "matrixV = 1.0/6005 * np.ones((6005, 1))\n",
    "print(matrixV)"
   ]
  },
  {
   "cell_type": "markdown",
   "metadata": {},
   "source": [
    "## Calculate M"
   ]
  },
  {
   "cell_type": "code",
   "execution_count": 32,
   "metadata": {},
   "outputs": [
    {
     "name": "stdout",
     "output_type": "stream",
     "text": [
      "[[  2.49791840e-05   9.44694236e-02   2.49791840e-05 ...,   2.49791840e-05\n",
      "    2.49791840e-05   2.49791840e-05]\n",
      " [  7.72977065e-02   2.49791840e-05   2.49791840e-05 ...,   2.49791840e-05\n",
      "    2.49791840e-05   2.49791840e-05]\n",
      " [  2.49791840e-05   9.44694236e-02   2.49791840e-05 ...,   2.49791840e-05\n",
      "    2.49791840e-05   2.49791840e-05]\n",
      " ..., \n",
      " [  2.49791840e-05   2.49791840e-05   2.49791840e-05 ...,   2.49791840e-05\n",
      "    2.49791840e-05   2.49791840e-05]\n",
      " [  2.49791840e-05   2.49791840e-05   2.49791840e-05 ...,   2.49791840e-05\n",
      "    2.49791840e-05   2.49791840e-05]\n",
      " [  2.49791840e-05   2.49791840e-05   2.49791840e-05 ...,   2.49791840e-05\n",
      "    2.49791840e-05   2.49791840e-05]]\n"
     ]
    }
   ],
   "source": [
    "m = (0.85 * matrixA) + matrixB\n",
    "print(m)"
   ]
  },
  {
   "cell_type": "markdown",
   "metadata": {},
   "source": [
    "## Calculate pageRank"
   ]
  },
  {
   "cell_type": "code",
   "execution_count": 33,
   "metadata": {
    "collapsed": true
   },
   "outputs": [],
   "source": [
    "count = 0\n",
    "def pageRank(matrixV):\n",
    "    global count\n",
    "    if((sum(abs((m.dot(matrixV))-matrixV))) > 0.001):\n",
    "        count +=1\n",
    "        print(count)\n",
    "        print(m.dot(matrixV))\n",
    "        print(sum(abs((m.dot(matrixV))-matrixV)))\n",
    "        return pageRank(m.dot(matrixV))\n",
    "    else:\n",
    "        count+=1\n",
    "        print(count)\n",
    "        print(m.dot(matrixV))\n",
    "        print(sum(abs((m.dot(matrixV))-matrixV)))\n",
    "        return m.dot(matrixV)"
   ]
  },
  {
   "cell_type": "code",
   "execution_count": 48,
   "metadata": {},
   "outputs": [
    {
     "name": "stdout",
     "output_type": "stream",
     "text": [
      "196\n",
      "[[  3.11163977e-03]\n",
      " [  1.91191684e-04]\n",
      " [  4.07068184e-05]\n",
      " ..., \n",
      " [  2.49791840e-05]\n",
      " [  2.49791840e-05]\n",
      " [  2.49791840e-05]]\n",
      "[ 0.82222989]\n",
      "197\n",
      "[[  1.88120168e-03]\n",
      " [  4.36051202e-04]\n",
      " [  2.42152660e-05]\n",
      " ..., \n",
      " [  6.15827360e-06]\n",
      " [  6.15827360e-06]\n",
      " [  6.15827360e-06]]\n",
      "[ 0.16293495]\n",
      "198\n",
      "[[  2.00737869e-03]\n",
      " [  3.02718968e-04]\n",
      " [  4.38317188e-05]\n",
      " ..., \n",
      " [  2.64910530e-06]\n",
      " [  2.64910530e-06]\n",
      " [  2.64910530e-06]]\n",
      "[ 0.0476409]\n",
      "199\n",
      "[[  1.10910688e-03]\n",
      " [  3.05990233e-04]\n",
      " [  3.02541422e-05]\n",
      " ..., \n",
      " [  1.66401742e-06]\n",
      " [  1.66401742e-06]\n",
      " [  1.66401742e-06]]\n",
      "[ 0.0218485]\n",
      "200\n",
      "[[  1.02198096e-03]\n",
      " [  1.93882544e-04]\n",
      " [  3.01058539e-05]\n",
      " ..., \n",
      " [  1.20677637e-06]\n",
      " [  1.20677637e-06]\n",
      " [  1.20677637e-06]]\n",
      "[ 0.01363054]\n",
      "201\n",
      "[[  6.12879966e-04]\n",
      " [  1.69820770e-04]\n",
      " [  1.92296260e-05]\n",
      " ..., \n",
      " [  9.18496830e-07]\n",
      " [  9.18496830e-07]\n",
      " [  9.18496830e-07]]\n",
      "[ 0.00944731]\n",
      "202\n",
      "[[  5.46555146e-04]\n",
      " [  1.11151215e-04]\n",
      " [  1.67519715e-05]\n",
      " ..., \n",
      " [  7.13343289e-07]\n",
      " [  7.13343289e-07]\n",
      " [  7.13343289e-07]]\n",
      "[ 0.00690752]\n",
      "203\n",
      "[[  3.43947806e-04]\n",
      " [  9.35018731e-05]\n",
      " [  1.10587855e-05]\n",
      " ..., \n",
      " [  5.61170733e-07]\n",
      " [  5.61170733e-07]\n",
      " [  5.61170733e-07]]\n",
      "[ 0.00516648]\n",
      "204\n",
      "[[  2.95897222e-04]\n",
      " [  6.33374797e-05]\n",
      " [  9.27663789e-06]\n",
      " ..., \n",
      " [  4.45905428e-07]\n",
      " [  4.45905428e-07]\n",
      " [  4.45905428e-07]]\n",
      "[ 0.00394382]\n",
      "205\n",
      "[[  1.94495802e-04]\n",
      " [  5.18099285e-05]\n",
      " [  6.33893466e-06]\n",
      " ..., \n",
      " [  3.57061581e-07]\n",
      " [  3.57061581e-07]\n",
      " [  3.57061581e-07]]\n",
      "[ 0.00303973]\n",
      "206\n",
      "[[  1.62458480e-04]\n",
      " [  3.61693793e-05]\n",
      " [  5.18125874e-06]\n",
      " ..., \n",
      " [  2.88098822e-07]\n",
      " [  2.88098822e-07]\n",
      " [  2.88098822e-07]]\n",
      "[ 0.00237652]\n",
      "207\n",
      "[[  1.11125140e-04]\n",
      " [  2.89837938e-05]\n",
      " [  3.64981922e-06]\n",
      " ..., \n",
      " [  2.33822282e-07]\n",
      " [  2.33822282e-07]\n",
      " [  2.33822282e-07]]\n",
      "[ 0.00187264]\n",
      "208\n",
      "[[  9.08893765e-05]\n",
      " [  2.07924424e-05]\n",
      " [  2.92829467e-06]\n",
      " ..., \n",
      " [  1.90936371e-07]\n",
      " [  1.90936371e-07]\n",
      " [  1.90936371e-07]]\n",
      "[ 0.00149367]\n",
      "209\n",
      "[[  6.43372969e-05]\n",
      " [  1.64366017e-05]\n",
      " [  2.12036131e-06]\n",
      " ..., \n",
      " [  1.56630639e-07]\n",
      " [  1.56630639e-07]\n",
      " [  1.56630639e-07]]\n",
      "[ 0.00119535]\n",
      "210\n",
      "[[  5.19486445e-05]\n",
      " [  1.20814861e-05]\n",
      " [  1.68146876e-06]\n",
      " ..., \n",
      " [  1.29123048e-07]\n",
      " [  1.29123048e-07]\n",
      " [  1.29123048e-07]]\n",
      "[ 0.00096794]\n",
      "[[  5.19486445e-05]\n",
      " [  1.20814861e-05]\n",
      " [  1.68146876e-06]\n",
      " ..., \n",
      " [  1.29123048e-07]\n",
      " [  1.29123048e-07]\n",
      " [  1.29123048e-07]]\n",
      "201\n"
     ]
    }
   ],
   "source": [
    "result = pageRank(matrixV)\n",
    "print(result)\n",
    "#print indice de maior pagerank\n",
    "print(list(result).index(sorted(result, reverse=True)[0]))"
   ]
  },
  {
   "cell_type": "code",
   "execution_count": null,
   "metadata": {
    "collapsed": true
   },
   "outputs": [],
   "source": []
  }
 ],
 "metadata": {
  "kernelspec": {
   "display_name": "Python 3",
   "language": "python",
   "name": "python3"
  },
  "language_info": {
   "codemirror_mode": {
    "name": "ipython",
    "version": 3
   },
   "file_extension": ".py",
   "mimetype": "text/x-python",
   "name": "python",
   "nbconvert_exporter": "python",
   "pygments_lexer": "ipython3",
   "version": "3.6.2"
  }
 },
 "nbformat": 4,
 "nbformat_minor": 2
}
